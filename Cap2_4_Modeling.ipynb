{
 "cells": [
  {
   "cell_type": "markdown",
   "id": "01f87144",
   "metadata": {},
   "source": [
    "# Contents\n",
    "1. Introduction\n",
    "2. Imports and Setup\n",
    "3. Load Data\n",
    "4. Sandbox\n",
    "5. Explore and evaluate models\n",
    "6. Optimize best model\n",
    "7. Summary\n",
    "8. Conclusion"
   ]
  },
  {
   "cell_type": "markdown",
   "id": "7fdcb96f",
   "metadata": {},
   "source": [
    "# 1. Introduction"
   ]
  },
  {
   "cell_type": "markdown",
   "id": "401f46ca",
   "metadata": {},
   "source": [
    "The data read into this notebook originates from the Cap2_preprocessing_and_data_development notebook located in the same directory as this one."
   ]
  },
  {
   "cell_type": "markdown",
   "id": "97583fd4",
   "metadata": {},
   "source": [
    "In this notebook, we will compare the performance of predicting the scoring spread of NFL games using 4 different modeling methods. Whlie treating the scoring spread outcome as a continuous variable, Random Forest Regressors and Linear Regressors will be applied and evaluated. Then while treating the scoring spread outcome as a boolean variable of \"yes or no did the home team beat the spread\", Random Forest Classifiers and Logistic regression models will both be applied and evaluatied."
   ]
  },
  {
   "cell_type": "markdown",
   "id": "5a45d94c",
   "metadata": {},
   "source": [
    "# 2. Imports and Setup"
   ]
  },
  {
   "cell_type": "code",
   "execution_count": 1,
   "id": "81eb4794",
   "metadata": {},
   "outputs": [],
   "source": [
    "import pandas as pd\n",
    "import numpy as np\n",
    "import matplotlib.pyplot as plt\n",
    "import seaborn as sns\n",
    "import xgboost as xgb"
   ]
  },
  {
   "cell_type": "code",
   "execution_count": 2,
   "id": "01858d85",
   "metadata": {},
   "outputs": [],
   "source": [
    "from sklearn.model_selection import TimeSeriesSplit, RandomizedSearchCV, train_test_split\n",
    "from sklearn.ensemble import RandomForestRegressor, RandomForestClassifier\n",
    "from sklearn.metrics import mean_squared_error, mean_absolute_error, accuracy_score, classification_report, confusion_matrix\n",
    "from sklearn.linear_model import LinearRegression, LogisticRegression\n",
    "from sklearn.metrics import precision_score, recall_score, roc_auc_score, roc_curve\n"
   ]
  },
  {
   "cell_type": "markdown",
   "id": "347efe7d",
   "metadata": {},
   "source": [
    "# 3. Load data"
   ]
  },
  {
   "cell_type": "code",
   "execution_count": 3,
   "id": "8ef9fecd",
   "metadata": {},
   "outputs": [],
   "source": [
    "main_df_numeric = pd.read_csv('./data/main_df_numeric')\n",
    "df_in = main_df_numeric.drop(['Unnamed: 0.1','Unnamed: 0'], axis=1)"
   ]
  },
  {
   "cell_type": "markdown",
   "id": "ec5f6e0e",
   "metadata": {},
   "source": [
    "Data set for modeling reduced to include \"modern\" football only, as styles of gameplay and therefore scoring trends have changed over time. Modern era of 26 years chosen becuase the longest NFL player career ever was 26 seasons."
   ]
  },
  {
   "cell_type": "markdown",
   "id": "24657ef8",
   "metadata": {},
   "source": [
    "A holdout/validation set of 2022 data will be created, and model training and testing will depend only on 1996-2021 data."
   ]
  },
  {
   "cell_type": "code",
   "execution_count": 4,
   "id": "4d540e76",
   "metadata": {},
   "outputs": [
    {
     "data": {
      "text/html": [
       "<div>\n",
       "<style scoped>\n",
       "    .dataframe tbody tr th:only-of-type {\n",
       "        vertical-align: middle;\n",
       "    }\n",
       "\n",
       "    .dataframe tbody tr th {\n",
       "        vertical-align: top;\n",
       "    }\n",
       "\n",
       "    .dataframe thead th {\n",
       "        text-align: right;\n",
       "    }\n",
       "</style>\n",
       "<table border=\"1\" class=\"dataframe\">\n",
       "  <thead>\n",
       "    <tr style=\"text-align: right;\">\n",
       "      <th></th>\n",
       "      <th>schedule_season</th>\n",
       "      <th>schedule_week</th>\n",
       "      <th>schedule_playoff</th>\n",
       "      <th>over_under_line</th>\n",
       "      <th>stadium_neutral</th>\n",
       "      <th>weather_temperature</th>\n",
       "      <th>weather_wind_mph</th>\n",
       "      <th>weather_humidity</th>\n",
       "      <th>home_pred_spread</th>\n",
       "      <th>home_ATS</th>\n",
       "      <th>...</th>\n",
       "      <th>away_WAS</th>\n",
       "      <th>weather_detail__fog</th>\n",
       "      <th>weather_detail__indoor</th>\n",
       "      <th>weather_detail__none</th>\n",
       "      <th>weather_detail__rain</th>\n",
       "      <th>weather_detail__rain | fog</th>\n",
       "      <th>weather_detail__retractable (open roof)</th>\n",
       "      <th>weather_detail__snow</th>\n",
       "      <th>weather_detail__snow | Freezing rain</th>\n",
       "      <th>weather_detail__snow | fog</th>\n",
       "    </tr>\n",
       "  </thead>\n",
       "  <tbody>\n",
       "    <tr>\n",
       "      <th>3779</th>\n",
       "      <td>1996</td>\n",
       "      <td>1</td>\n",
       "      <td>False</td>\n",
       "      <td>40.0</td>\n",
       "      <td>False</td>\n",
       "      <td>71.0</td>\n",
       "      <td>5.0</td>\n",
       "      <td>70.0</td>\n",
       "      <td>-1.0</td>\n",
       "      <td>4.0</td>\n",
       "      <td>...</td>\n",
       "      <td>False</td>\n",
       "      <td>False</td>\n",
       "      <td>False</td>\n",
       "      <td>True</td>\n",
       "      <td>False</td>\n",
       "      <td>False</td>\n",
       "      <td>False</td>\n",
       "      <td>False</td>\n",
       "      <td>False</td>\n",
       "      <td>False</td>\n",
       "    </tr>\n",
       "    <tr>\n",
       "      <th>3780</th>\n",
       "      <td>1996</td>\n",
       "      <td>1</td>\n",
       "      <td>False</td>\n",
       "      <td>41.0</td>\n",
       "      <td>False</td>\n",
       "      <td>72.0</td>\n",
       "      <td>6.0</td>\n",
       "      <td>65.0</td>\n",
       "      <td>3.0</td>\n",
       "      <td>26.0</td>\n",
       "      <td>...</td>\n",
       "      <td>False</td>\n",
       "      <td>False</td>\n",
       "      <td>False</td>\n",
       "      <td>True</td>\n",
       "      <td>False</td>\n",
       "      <td>False</td>\n",
       "      <td>False</td>\n",
       "      <td>False</td>\n",
       "      <td>False</td>\n",
       "      <td>False</td>\n",
       "    </tr>\n",
       "    <tr>\n",
       "      <th>3781</th>\n",
       "      <td>1996</td>\n",
       "      <td>1</td>\n",
       "      <td>False</td>\n",
       "      <td>42.0</td>\n",
       "      <td>False</td>\n",
       "      <td>74.0</td>\n",
       "      <td>14.0</td>\n",
       "      <td>30.0</td>\n",
       "      <td>-8.0</td>\n",
       "      <td>17.0</td>\n",
       "      <td>...</td>\n",
       "      <td>False</td>\n",
       "      <td>False</td>\n",
       "      <td>False</td>\n",
       "      <td>True</td>\n",
       "      <td>False</td>\n",
       "      <td>False</td>\n",
       "      <td>False</td>\n",
       "      <td>False</td>\n",
       "      <td>False</td>\n",
       "      <td>False</td>\n",
       "    </tr>\n",
       "  </tbody>\n",
       "</table>\n",
       "<p>3 rows × 84 columns</p>\n",
       "</div>"
      ],
      "text/plain": [
       "      schedule_season  schedule_week  schedule_playoff  over_under_line  \\\n",
       "3779             1996              1             False             40.0   \n",
       "3780             1996              1             False             41.0   \n",
       "3781             1996              1             False             42.0   \n",
       "\n",
       "      stadium_neutral  weather_temperature  weather_wind_mph  \\\n",
       "3779            False                 71.0               5.0   \n",
       "3780            False                 72.0               6.0   \n",
       "3781            False                 74.0              14.0   \n",
       "\n",
       "      weather_humidity  home_pred_spread  home_ATS  ...  away_WAS  \\\n",
       "3779              70.0              -1.0       4.0  ...     False   \n",
       "3780              65.0               3.0      26.0  ...     False   \n",
       "3781              30.0              -8.0      17.0  ...     False   \n",
       "\n",
       "      weather_detail__fog  weather_detail__indoor  weather_detail__none  \\\n",
       "3779                False                   False                  True   \n",
       "3780                False                   False                  True   \n",
       "3781                False                   False                  True   \n",
       "\n",
       "      weather_detail__rain  weather_detail__rain | fog  \\\n",
       "3779                 False                       False   \n",
       "3780                 False                       False   \n",
       "3781                 False                       False   \n",
       "\n",
       "      weather_detail__retractable (open roof)  weather_detail__snow  \\\n",
       "3779                                    False                 False   \n",
       "3780                                    False                 False   \n",
       "3781                                    False                 False   \n",
       "\n",
       "      weather_detail__snow | Freezing rain  weather_detail__snow | fog  \n",
       "3779                                 False                       False  \n",
       "3780                                 False                       False  \n",
       "3781                                 False                       False  \n",
       "\n",
       "[3 rows x 84 columns]"
      ]
     },
     "execution_count": 4,
     "metadata": {},
     "output_type": "execute_result"
    }
   ],
   "source": [
    "df_modern = df_in[df_in.schedule_season > 1995]\n",
    "\n",
    "val_holdout = df_modern[df_modern.schedule_season == 2022]\n",
    "df = df_modern[df_modern.schedule_season != 2022]\n",
    "\n",
    "df.head(3)"
   ]
  },
  {
   "cell_type": "markdown",
   "id": "52e2de23",
   "metadata": {},
   "source": [
    "Create copy of df, but with home_ATS target variable as a discrete output df_tf"
   ]
  },
  {
   "cell_type": "code",
   "execution_count": 5,
   "id": "fb78235e",
   "metadata": {},
   "outputs": [],
   "source": [
    "df_tf = df.copy()\n",
    "df_tf['home_ATS'] = df.home_ATS > 0\n",
    "df_tf.head();\n",
    "\n",
    "df_modern_tf = df_modern.copy()\n",
    "df_modern_tf['home_ATS'] = df_modern_tf.home_ATS > 0"
   ]
  },
  {
   "cell_type": "markdown",
   "id": "a2a42d84",
   "metadata": {},
   "source": [
    "# 4. Sandbox"
   ]
  },
  {
   "cell_type": "markdown",
   "id": "5387cd5e",
   "metadata": {},
   "source": [
    "## 4.1 How to manage training/test splits"
   ]
  },
  {
   "cell_type": "code",
   "execution_count": 6,
   "id": "6a0d810c",
   "metadata": {},
   "outputs": [],
   "source": [
    "import warnings\n",
    "warnings.filterwarnings('ignore')"
   ]
  },
  {
   "cell_type": "code",
   "execution_count": 7,
   "id": "e0f0a2f2",
   "metadata": {},
   "outputs": [],
   "source": [
    "color_pal = sns.color_palette()\n",
    "plt.style.use('fivethirtyeight')"
   ]
  },
  {
   "cell_type": "code",
   "execution_count": 8,
   "id": "8e3708ea",
   "metadata": {
    "scrolled": true
   },
   "outputs": [
    {
     "data": {
      "text/plain": [
       "<Axes: title={'center': 'Singular time-based Train/Test split'}>"
      ]
     },
     "execution_count": 8,
     "metadata": {},
     "output_type": "execute_result"
    },
    {
     "data": {
      "image/png": "[encoded data removed]",
      "text/plain": [
       "<Figure size 800x400 with 1 Axes>"
      ]
     },
     "metadata": {},
     "output_type": "display_data"
    }
   ],
   "source": [
    "#Visualize standard cross validation\n",
    "standard_train = df[df.schedule_season != 2021]\n",
    "standard_test = df[df.schedule_season == 2021]\n",
    "\n",
    "#visualize data split\n",
    "fig, ax = plt.subplots(figsize=(8,4))\n",
    "standard_train.home_ATS.plot(ax=ax, label='Training', title='Singular time-based Train/Test split', markersize=0.01)\n",
    "standard_test.home_ATS.plot(ax=ax, label='Testing')"
   ]
  },
  {
   "cell_type": "markdown",
   "id": "41c9804a",
   "metadata": {},
   "source": [
    "This plot shows a possible train/test split for time-dependent data, however to improve model efficacy we will aim to generate many smaller testing splits and iterate over them, the way this model would be applied on a weekly basis to predict NFL games after deployment."
   ]
  },
  {
   "cell_type": "markdown",
   "id": "a3725ddb",
   "metadata": {},
   "source": [
    "##### Example from Youtube Rob Mulla\n",
    "https://www.youtube.com/watch?v=z3ZnOW-S550"
   ]
  },
  {
   "cell_type": "markdown",
   "id": "e076af75",
   "metadata": {},
   "source": [
    "The following cell is a practice deployment of the TimeSeriesSplit function that will be used throughout this notebook in order to simulate training and testing models weekly across NFL seasons. For example, we will train on available data up through week 1 of the 2021 season, then use that trained model to predict week 2 only. This will be repeated for all test weeks."
   ]
  },
  {
   "cell_type": "code",
   "execution_count": 9,
   "id": "f49ab4b6",
   "metadata": {},
   "outputs": [],
   "source": [
    "#this code block commented out to save unneeded runtime when notebook is opened\n",
    "'''\n",
    "\n",
    "tss = TimeSeriesSplit(n_splits=3, test_size=16, gap=0)\n",
    "\n",
    "fold=0\n",
    "preds=[]\n",
    "scores=[]\n",
    "\n",
    "for train_idx, val_idx, in tss.split(df):\n",
    "    train = df.iloc[train_idx]\n",
    "    test = df.iloc[val_idx]\n",
    "    \n",
    "    X_train = train.drop('home_ATS', axis=1)\n",
    "    y_train = train.home_ATS\n",
    "    \n",
    "    X_test = test.drop('home_ATS', axis=1)\n",
    "    y_test = test.home_ATS\n",
    "    \n",
    "    xg_mod = xgb.XGBRegressor(base_score = 0.5,\n",
    "                             booster='gbtree',\n",
    "                             n_estimators=1000, early_stopping_rounds=50,\n",
    "                             objective='reg:linear', max_depth=3,\n",
    "                             learning_rate=0.01)\n",
    "    xg_mod.fit(X_train, y_train, \n",
    "              eval_set=[(X_train,y_train), (X_test,y_test)],\n",
    "              verbose=500)\n",
    "    \n",
    "    y_pred = xg_mod.predict(X_test)\n",
    "    preds.append(y_pred)\n",
    "    score = np.sqrt(mean_squared_error(y_test, y_pred))\n",
    "    scores.append(score)\n",
    "\n",
    "    fold+=1\n",
    "    \n",
    "print(f'Avg RMSE score across folds {np.mean(scores):0.4f}')\n",
    "print(f'Individual scores: {scores}')\n",
    "\n",
    "''';"
   ]
  },
  {
   "cell_type": "markdown",
   "id": "8bf69aef",
   "metadata": {},
   "source": [
    "##### Template - to apply the above method to various future types of models."
   ]
  },
  {
   "cell_type": "code",
   "execution_count": 10,
   "id": "4b8d515d",
   "metadata": {},
   "outputs": [],
   "source": [
    "#this code block commented out to save unneeded runtime when notebook is opened\n",
    "'''\n",
    "\n",
    "# Split Time-series-based Train and Test sets - may not need to be duplicated?\n",
    "tss = TimeSeriesSplit(n_splits=34, test_size=16, gap=0)  #34 splits by 16 games represents two seasons\n",
    "\n",
    "fold=0\n",
    "preds=[]\n",
    "scores=[]\n",
    "\n",
    "for train_idx, val_idx, in tss.split(df):\n",
    "    train = df.iloc[train_idx]\n",
    "    test = df.iloc[val_idx]\n",
    "    \n",
    "    X_train = train.drop('home_ATS', axis=1)\n",
    "    y_train = train.home_ATS\n",
    "    \n",
    "    X_test = test.drop('home_ATS', axis=1)\n",
    "    y_test = test.home_ATS\n",
    "    \n",
    "    #INSTANTIATE NEW MODEL HERE\n",
    "    \n",
    "    ###\n",
    "    ###\n",
    "    \n",
    "    y_pred = ___.predict(X_test)\n",
    "    preds.append(y_pred)\n",
    "    score = mean_absolute_error(y_test, y_pred)\n",
    "    scores.append(score)\n",
    "\n",
    "    fold+=1\n",
    "    \n",
    "print(f'Avg MAE score across folds {np.mean(scores):0.4f}')\n",
    "print(f'Median prediction percentiles: {np.percentile(preds, q=[0,25,50,75,100])}')\n",
    "    \n",
    "''';"
   ]
  },
  {
   "cell_type": "markdown",
   "id": "439c2202",
   "metadata": {},
   "source": [
    "# 5. Explore and Evaluate Models"
   ]
  },
  {
   "cell_type": "markdown",
   "id": "98f15502",
   "metadata": {},
   "source": [
    "## 5.1 Treating performance ATS as continuous"
   ]
  },
  {
   "cell_type": "markdown",
   "id": "e161e4da",
   "metadata": {},
   "source": [
    "### 5.1.1 Random Forest Regressor"
   ]
  },
  {
   "cell_type": "code",
   "execution_count": 11,
   "id": "a674ceed",
   "metadata": {},
   "outputs": [],
   "source": [
    "# Split Time-series-based Train and Test sets - may not need to be duplicated?\n",
    "tss = TimeSeriesSplit(n_splits=34, test_size=16, gap=0)  #34 splits by 16 games represents roughly 2 seasons\n",
    "\n",
    "fold=0\n",
    "preds=[]\n",
    "abs_scores=[]\n",
    "y_test_bools = []\n",
    "y_pred_bools = []\n",
    "\n",
    "for train_idx, val_idx, in tss.split(df):\n",
    "    train = df.iloc[train_idx]\n",
    "    test = df.iloc[val_idx]\n",
    "    \n",
    "    X_train = train.drop('home_ATS', axis=1)\n",
    "    y_train = train.home_ATS\n",
    "    \n",
    "    X_test = test.drop('home_ATS', axis=1)\n",
    "    y_test = test.home_ATS\n",
    "    \n",
    "    #INSTANTIATE NEW MODEL HERE\n",
    "    \n",
    "    rf_model = RandomForestRegressor(\n",
    "            n_estimators=160,  # Number of trees in the forest\n",
    "            max_depth=4,    # Maximum depth of the tree nodes\n",
    "            min_samples_split=4,  # Minimum number of samples required to split an internal node\n",
    "            max_features='log2',  \n",
    "            random_state=42)\n",
    "\n",
    "    rf_model.fit(X_train, y_train)\n",
    "    \n",
    "    y_pred = rf_model.predict(X_test)\n",
    "    preds.append(y_pred)\n",
    "    \n",
    "    abs_score = mean_absolute_error(y_test, y_pred)\n",
    "    abs_scores.append(abs_score)\n",
    "    \n",
    "    #compare the sign (pos or neg) of y_test and y_pred\n",
    "    for i in range(16):\n",
    "        y_test_bools.append(y_test.iloc[i] > 0)\n",
    "        y_pred_bools.append(y_pred[i] > 0)\n",
    "    \n",
    "\n",
    "    fold+=1\n",
    "accuracy_rfr = accuracy_score(y_test_bools, y_pred_bools)"
   ]
  },
  {
   "cell_type": "code",
   "execution_count": 12,
   "id": "1f49e786",
   "metadata": {},
   "outputs": [
    {
     "name": "stdout",
     "output_type": "stream",
     "text": [
      "Avg MAE score across folds 10.2288\n",
      "Median prediction percentiles: [-1.3742803  -0.50105312 -0.30955622 -0.09337237  0.90116315]\n",
      "Accuracy: 0.5441176470588235\n"
     ]
    }
   ],
   "source": [
    "print(f'Avg MAE score across folds {np.mean(abs_scores):0.4f}')\n",
    "print(f'Median prediction percentiles: {np.percentile(preds, q=[0,25,50,75,100])}')\n",
    "print(f'Accuracy: {accuracy_rfr}')"
   ]
  },
  {
   "cell_type": "markdown",
   "id": "999b8a6e",
   "metadata": {},
   "source": [
    "#### RF Regressor Parameter Tuning"
   ]
  },
  {
   "cell_type": "markdown",
   "id": "1f200ad5",
   "metadata": {},
   "source": [
    "Note: this parameter tuning is located after the iterative time-based test splitting in this notebook, however in practice the resulting optimal values were added back to the above modeling."
   ]
  },
  {
   "cell_type": "code",
   "execution_count": 13,
   "id": "05f89bb8",
   "metadata": {},
   "outputs": [],
   "source": [
    "#this code block commented out to save unneeded runtime when notebook is opened\n",
    "'''\n",
    "# Define the parameter grid for RandomizedSearchCV\n",
    "param_grid = {\n",
    "    'n_estimators': np.arange(10, 200, 10),           # Number of trees in the forest\n",
    "    'max_depth': [None] + list(np.arange(2, 20)),    # Maximum depth of the tree nodes\n",
    "    'min_samples_split': np.arange(2, 11),           # Minimum number of samples required to split an internal node\n",
    "    'max_features': ['auto', 'sqrt', 'log2'],        # Number of features to consider when looking for the best split\n",
    "    'random_state': [42]\n",
    "    }\n",
    "\n",
    "# Create the RandomForestRegressor model\n",
    "rf_model = RandomForestRegressor()\n",
    "\n",
    "# Create RandomizedSearchCV object\n",
    "random_search = RandomizedSearchCV(\n",
    "    rf_model, param_distributions=param_grid, n_iter=100, scoring='neg_mean_absolute_error', cv=5, n_jobs=-1\n",
    ")\n",
    "\n",
    "# Fit the RandomizedSearchCV to the training data (from block above)\n",
    "random_search.fit(X_train, y_train);\n",
    "\n",
    "# Get the best hyperparameters from the search\n",
    "best_params = random_search.best_params_\n",
    "print(\"Best Hyperparameters:\")\n",
    "print(best_params)\n",
    "\n",
    "\n",
    "# Evaluate the model with the best hyperparameters on the validation set\n",
    "best_rf_model = random_search.best_estimator_\n",
    "y_pred = best_rf_model.predict(X_test)\n",
    "\n",
    "# Calculate the root mean squared error as an evaluation metric\n",
    "mae = mean_absolute_error(y_test, y_pred)\n",
    "print(f\"Mean absolute Error on Test Data: {mae}\")\n",
    "''';"
   ]
  },
  {
   "cell_type": "markdown",
   "id": "a2d0e839",
   "metadata": {},
   "source": [
    "Output of above saved as text: \n",
    "Best Hyperparameters:\n",
    "{'random_state': 42, 'n_estimators': 90, 'min_samples_split': 4, 'max_features': 'log2', 'max_depth': 4}"
   ]
  },
  {
   "cell_type": "markdown",
   "id": "ff67c74b",
   "metadata": {},
   "source": [
    "### 5.1.2 Linear Regression"
   ]
  },
  {
   "cell_type": "code",
   "execution_count": 14,
   "id": "c32d1230",
   "metadata": {},
   "outputs": [],
   "source": [
    "# Split Time-series-based Train and Test sets - may not need to be duplicated?\n",
    "tss = TimeSeriesSplit(n_splits=34, test_size=16, gap=0)  #34 splits by 16 games represents two seasons\n",
    "\n",
    "fold=0\n",
    "preds=[]\n",
    "scores=[]\n",
    "y_test_bools=[]\n",
    "y_pred_bools=[]\n",
    "\n",
    "for train_idx, val_idx, in tss.split(df):\n",
    "    train = df.iloc[train_idx]\n",
    "    test = df.iloc[val_idx]\n",
    "    \n",
    "    X_train = train.drop('home_ATS', axis=1)\n",
    "    y_train = train.home_ATS\n",
    "    \n",
    "    X_test = test.drop('home_ATS', axis=1)\n",
    "    y_test = test.home_ATS\n",
    "    \n",
    "    #INSTANTIATE NEW MODEL HERE\n",
    "    \n",
    "    # Create the Linear Regression model\n",
    "    lr_model = LinearRegression()\n",
    "\n",
    "    # Fit the model to the training data\n",
    "    lr_model.fit(X_train, y_train)\n",
    "\n",
    "    # Make predictions on the test set\n",
    "    y_pred = lr_model.predict(X_test)\n",
    "\n",
    "    preds.append(y_pred)\n",
    "    score = mean_absolute_error(y_test, y_pred)\n",
    "    scores.append(score)\n",
    "    \n",
    "    #compare the sign (pos or neg) of y_test and y_pred\n",
    "    for i in range(16):\n",
    "        y_test_bools.append(y_test.iloc[i] > 0)\n",
    "        y_pred_bools.append(y_pred[i] > 0)\n",
    "    \n",
    "\n",
    "    fold+=1\n",
    "accuracy_linreg = accuracy_score(y_test_bools, y_pred_bools)"
   ]
  },
  {
   "cell_type": "code",
   "execution_count": 15,
   "id": "f36c053f",
   "metadata": {},
   "outputs": [
    {
     "name": "stdout",
     "output_type": "stream",
     "text": [
      "Avg MAE score across folds for Linear Regression 10.3606\n",
      "Accuracy: 0.5110294117647058\n"
     ]
    }
   ],
   "source": [
    "print(f'Avg MAE score across folds for Linear Regression {np.mean(scores):0.4f}')\n",
    "print(f'Accuracy: {accuracy_linreg}')"
   ]
  },
  {
   "cell_type": "markdown",
   "id": "ebacb010",
   "metadata": {},
   "source": [
    "## 5.2 Treating performance ATS as discrete"
   ]
  },
  {
   "cell_type": "markdown",
   "id": "ece17605",
   "metadata": {},
   "source": [
    "All of section 5.2 will be using tf_df as the input data, as it has the home_ATS column formatted as a true/false boolean of whether the home team is redicted to beat the spread or not."
   ]
  },
  {
   "cell_type": "markdown",
   "id": "5b22dd18",
   "metadata": {},
   "source": [
    "### 5.2.1 Logistic regression"
   ]
  },
  {
   "cell_type": "code",
   "execution_count": 16,
   "id": "71ef920c",
   "metadata": {},
   "outputs": [],
   "source": [
    "# Split Time-series-based Train and Test sets - may not need to be duplicated?\n",
    "tss = TimeSeriesSplit(n_splits=34, test_size=16, gap=0)  #34 splits by 16 games represents two seasons\n",
    "\n",
    "fold=0\n",
    "preds=[]\n",
    "accuracies=[]\n",
    "y_tests=[]\n",
    "y_preds=[]\n",
    "\n",
    "for train_idx, val_idx, in tss.split(df_tf):\n",
    "    train = df_tf.iloc[train_idx]\n",
    "    test = df_tf.iloc[val_idx]\n",
    "    \n",
    "    X_train = train.drop('home_ATS', axis=1)\n",
    "    y_train = train.home_ATS\n",
    "    \n",
    "    X_test = test.drop('home_ATS', axis=1)\n",
    "    y_test = test.home_ATS\n",
    "    \n",
    "    #INSTANTIATE LogReg model\n",
    "    \n",
    "    logistic_model = LogisticRegression()\n",
    "    logistic_model.fit(X_train, y_train)\n",
    "    y_pred = logistic_model.predict(X_test)\n",
    "    \n",
    "    for i in range(16):\n",
    "        y_tests.append(y_test.iloc[i])\n",
    "        y_preds.append(y_pred[i])\n",
    "\n",
    "    fold+=1\n",
    "accuracy_logreg = accuracy_score(y_tests, y_preds)"
   ]
  },
  {
   "cell_type": "code",
   "execution_count": 17,
   "id": "b49e21ba",
   "metadata": {},
   "outputs": [
    {
     "name": "stdout",
     "output_type": "stream",
     "text": [
      "Logistic Regression Model Accuracy 0.5238970588235294\n"
     ]
    }
   ],
   "source": [
    "print(f\"Logistic Regression Model Accuracy {accuracy_logreg}\")"
   ]
  },
  {
   "cell_type": "markdown",
   "id": "f5f33070",
   "metadata": {},
   "source": [
    "### 5.2.2 Random Forest Classifier"
   ]
  },
  {
   "cell_type": "code",
   "execution_count": 18,
   "id": "af522871",
   "metadata": {},
   "outputs": [],
   "source": [
    "# Split Time-series-based Train and Test sets - may not need to be duplicated?\n",
    "tss = TimeSeriesSplit(n_splits=34, test_size=16, gap=0)  #34 splits by 16 games represents two seasons\n",
    "\n",
    "fold=0\n",
    "abs_scores=[]\n",
    "y_tests=[]\n",
    "y_preds=[]\n",
    "\n",
    "for train_idx, val_idx, in tss.split(df_tf):\n",
    "    train = df_tf.iloc[train_idx]\n",
    "    test = df_tf.iloc[val_idx]\n",
    "    \n",
    "    X_train = train.drop('home_ATS', axis=1)\n",
    "    y_train = train.home_ATS\n",
    "    \n",
    "    X_test = test.drop('home_ATS', axis=1)\n",
    "    y_test = test.home_ATS\n",
    "    \n",
    "    #INSTANTIATE NEW MODEL HERE\n",
    "    \n",
    "    rf_model = RandomForestClassifier(\n",
    "            n_estimators=20,  # Number of trees in the forest\n",
    "            max_depth=4,    # Maximum depth of the tree nodes\n",
    "            min_samples_split=3,  # Minimum number of samples required to split an internal node\n",
    "            max_features='log2',  \n",
    "            random_state=42)\n",
    "\n",
    "    rf_model.fit(X_train, y_train)\n",
    "    \n",
    "    y_pred = rf_model.predict(X_test)\n",
    "    \n",
    "    for i in range(16):\n",
    "        y_tests.append(y_test.iloc[i])\n",
    "        y_preds.append(y_pred[i])\n",
    "        \n",
    "    fold+=1\n",
    "    \n",
    "accuracy_rfc = accuracy_score(y_tests, y_preds)"
   ]
  },
  {
   "cell_type": "code",
   "execution_count": 19,
   "id": "56c26810",
   "metadata": {},
   "outputs": [
    {
     "name": "stdout",
     "output_type": "stream",
     "text": [
      "Random Forest Classifier Accuracy: 0.5514705882352942\n"
     ]
    }
   ],
   "source": [
    "print(f'Random Forest Classifier Accuracy: {accuracy_rfc}')"
   ]
  },
  {
   "cell_type": "markdown",
   "id": "e321f037",
   "metadata": {},
   "source": [
    "Best Hyperparameters from executing the below, saved as text:\n",
    "{'random_state': 42, 'n_estimators': 20, 'min_samples_split': 3, 'max_features': 'auto', 'max_depth': 4}"
   ]
  },
  {
   "cell_type": "code",
   "execution_count": 20,
   "id": "d2c98d0b",
   "metadata": {},
   "outputs": [],
   "source": [
    "#this code block commented out to save unneeded runtime when notebook is opened\n",
    "'''\n",
    "# Define the parameter grid for RandomizedSearchCV\n",
    "param_grid = {\n",
    "    'n_estimators': np.arange(10, 200, 10),           # Number of trees in the forest\n",
    "    'max_depth': [None] + list(np.arange(2, 20)),    # Maximum depth of the tree nodes\n",
    "    'min_samples_split': np.arange(2, 11),           # Minimum number of samples required to split an internal node\n",
    "    'max_features': ['auto', 'sqrt', 'log2'],        # Number of features to consider when looking for the best split\n",
    "    'random_state': [42]\n",
    "    }\n",
    "\n",
    "# Create the RandomForestRegressor model\n",
    "rf_model = RandomForestClassifier()\n",
    "\n",
    "# Create RandomizedSearchCV object\n",
    "random_search = RandomizedSearchCV(\n",
    "    rf_model, param_distributions=param_grid, n_iter=100, scoring='neg_mean_absolute_error', cv=5, n_jobs=-1\n",
    ")\n",
    "\n",
    "# Fit the RandomizedSearchCV to the training data (from last split above)\n",
    "random_search.fit(X_train, y_train);\n",
    "\n",
    "# Get the best hyperparameters from the search\n",
    "best_params = random_search.best_params_\n",
    "print(\"Best Hyperparameters:\")\n",
    "print(best_params)''';"
   ]
  },
  {
   "cell_type": "code",
   "execution_count": null,
   "id": "67d017fb",
   "metadata": {},
   "outputs": [],
   "source": []
  },
  {
   "cell_type": "markdown",
   "id": "b002600f",
   "metadata": {},
   "source": [
    "# 6. Optimize Best Model"
   ]
  },
  {
   "cell_type": "markdown",
   "id": "b9341181",
   "metadata": {},
   "source": [
    "note to self: can we use confidence-based predictors? best 8 out of every batch of 16 etc."
   ]
  },
  {
   "cell_type": "markdown",
   "id": "da3b0c3e",
   "metadata": {},
   "source": [
    "##### Select model type from above"
   ]
  },
  {
   "cell_type": "code",
   "execution_count": 21,
   "id": "d2752692",
   "metadata": {},
   "outputs": [
    {
     "name": "stdout",
     "output_type": "stream",
     "text": [
      "Random Forest Regressor Accuracy: 0.5441176470588235\n",
      "Linear Regressor Accuracy: 0.5110294117647058\n",
      "Random Forest Classifier Accuracy: 0.5514705882352942\n",
      "Logistic Regression Model Accuracy 0.5238970588235294\n"
     ]
    }
   ],
   "source": [
    "#Compare all model types applied above by accuracy score\n",
    "print(f'Random Forest Regressor Accuracy: {accuracy_rfr}')\n",
    "print(f'Linear Regressor Accuracy: {accuracy_linreg}')\n",
    "print(f'Random Forest Classifier Accuracy: {accuracy_rfc}')\n",
    "print(f'Logistic Regression Model Accuracy {accuracy_logreg}')"
   ]
  },
  {
   "cell_type": "markdown",
   "id": "07978575",
   "metadata": {},
   "source": [
    "Because it performed the best on initial modeling (55% accuracy score), we will move forward with the Random Forest Classifier model type and attempt to further optimize."
   ]
  },
  {
   "cell_type": "markdown",
   "id": "95390bbe",
   "metadata": {},
   "source": [
    "##### Test whether utilizing Predicted Probabilities from RFC can improve performance"
   ]
  },
  {
   "cell_type": "code",
   "execution_count": 22,
   "id": "f5d2a375",
   "metadata": {},
   "outputs": [],
   "source": [
    "# Split Time-series-based Train and Test sets - may not need to be duplicated?\n",
    "tss = TimeSeriesSplit(n_splits=34, test_size=16, gap=0)  #34 splits by 16 games represents two seasons\n",
    "\n",
    "fold=0\n",
    "abs_scores=[]\n",
    "y_tests=[]\n",
    "y_preds=[]\n",
    "\n",
    "for train_idx, val_idx, in tss.split(df_tf):\n",
    "    train = df_tf.iloc[train_idx]\n",
    "    test = df_tf.iloc[val_idx]\n",
    "    \n",
    "    X_train = train.drop('home_ATS', axis=1)\n",
    "    y_train = train.home_ATS\n",
    "    \n",
    "    X_test = test.drop('home_ATS', axis=1)\n",
    "    y_test = test.home_ATS\n",
    "    \n",
    "    \n",
    "    rf_model = RandomForestClassifier(\n",
    "            n_estimators=20,  # Number of trees in the forest\n",
    "            max_depth=4,    # Maximum depth of the tree nodes\n",
    "            min_samples_split=3,  # Minimum number of samples required to split an internal node\n",
    "            max_features='log2',  \n",
    "            random_state=42)\n",
    "\n",
    "    rf_model.fit(X_train, y_train)\n",
    "    y_pred = rf_model.predict(X_test)\n",
    "    \n",
    "    y_proba = rf_model.predict_proba(X_test)\n",
    "    \n",
    "    #filter for where the probability from rf.predict_proba() is oredicted to be strong\n",
    "    for i in range(16):\n",
    "        if y_proba[i,1] > 0.525 or y_proba[i,1] < 0.475:   #bounds set to include roughly half of results aka choose a bet on half of all games\n",
    "            y_tests.append(y_test.iloc[i])\n",
    "            y_preds.append(y_pred[i])\n",
    "        \n",
    "    fold+=1\n",
    "    \n",
    "accuracy_rfc_prob = accuracy_score(y_tests, y_preds)"
   ]
  },
  {
   "cell_type": "code",
   "execution_count": 23,
   "id": "7e0d67e4",
   "metadata": {},
   "outputs": [
    {
     "name": "stdout",
     "output_type": "stream",
     "text": [
      "Accuracy score if we only predict the more confidently predicted games: 0.5461254612546126\n",
      "271\n"
     ]
    }
   ],
   "source": [
    "print(f'Accuracy score if we only predict the more confidently predicted games: {accuracy_rfc_prob}')\n",
    "print(len(y_tests))"
   ]
  },
  {
   "cell_type": "markdown",
   "id": "c976ce6d",
   "metadata": {},
   "source": [
    "In the above modeling, the prediction probabilities, aka prediction confidences, were used in an effort to optimize the model. In essence, only the strongest predictions were kept and used to predict games, effectively betting on the half of NFL games each week that the model is most confident about. This technique did NOT actually perform better than predicting every game."
   ]
  },
  {
   "cell_type": "markdown",
   "id": "7b82f7c2",
   "metadata": {},
   "source": [
    "## Test RF Classifier on 2022 validation set"
   ]
  },
  {
   "cell_type": "code",
   "execution_count": 24,
   "id": "478a53ab",
   "metadata": {},
   "outputs": [],
   "source": [
    "# Split Time-series-based Train and Test sets - may not need to be duplicated?\n",
    "tss = TimeSeriesSplit(n_splits=34, test_size=16, gap=0)  #34 splits by 16 games represents two seasons\n",
    "\n",
    "fold=0\n",
    "abs_scores=[]\n",
    "y_tests=[]\n",
    "y_preds=[]\n",
    "\n",
    "for train_idx, val_idx, in tss.split(df_modern_tf):\n",
    "    train = df_modern_tf.iloc[train_idx]\n",
    "    test = df_modern_tf.iloc[val_idx]\n",
    "    \n",
    "    X_train = train.drop('home_ATS', axis=1)\n",
    "    y_train = train.home_ATS\n",
    "    \n",
    "    X_test = test.drop('home_ATS', axis=1)\n",
    "    y_test = test.home_ATS\n",
    "    \n",
    "    #INSTANTIATE NEW MODEL HERE\n",
    "    \n",
    "    rf_model = RandomForestClassifier(\n",
    "            n_estimators=20,  # Number of trees in the forest\n",
    "            max_depth=4,    # Maximum depth of the tree nodes\n",
    "            min_samples_split=3,  # Minimum number of samples required to split an internal node\n",
    "            max_features='log2',  \n",
    "            random_state=42)\n",
    "\n",
    "    rf_model.fit(X_train, y_train)\n",
    "    \n",
    "    y_pred = rf_model.predict(X_test)\n",
    "    \n",
    "    for i in range(16):\n",
    "        y_tests.append(y_test.iloc[i])\n",
    "        y_preds.append(y_pred[i])\n",
    "        \n",
    "    fold+=1\n",
    "    \n",
    "accuracy_2022 = accuracy_score(y_tests, y_preds)"
   ]
  },
  {
   "cell_type": "code",
   "execution_count": 25,
   "id": "652f7ab7",
   "metadata": {},
   "outputs": [
    {
     "name": "stdout",
     "output_type": "stream",
     "text": [
      "0.5110294117647058\n"
     ]
    }
   ],
   "source": [
    "print(accuracy_2022)"
   ]
  },
  {
   "cell_type": "code",
   "execution_count": 27,
   "id": "678487a2",
   "metadata": {},
   "outputs": [
    {
     "name": "stdout",
     "output_type": "stream",
     "text": [
      "Confusion Matrix:\n",
      "[[241  41]\n",
      " [225  37]]\n",
      "Precision: 0.47\n",
      "Recall: 0.14\n",
      "AUC/ROC: 0.50\n"
     ]
    },
    {
     "data": {
      "image/png": "[encoded data removed]",
      "text/plain": [
       "<Figure size 600x600 with 1 Axes>"
      ]
     },
     "metadata": {},
     "output_type": "display_data"
    }
   ],
   "source": [
    "# Calculate Confusion Matrix\n",
    "cm = confusion_matrix(y_tests, y_preds)\n",
    "\n",
    "# Calculate Precision\n",
    "precision = precision_score(y_tests, y_preds)\n",
    "\n",
    "# Calculate Recall\n",
    "recall = recall_score(y_tests, y_preds)\n",
    "\n",
    "# Calculate AUC/ROC\n",
    "roc_auc = roc_auc_score(y_tests, y_preds)\n",
    "fpr, tpr, _ = roc_curve(y_tests, y_preds)\n",
    "\n",
    "# Print the metrics\n",
    "print(\"Confusion Matrix:\")\n",
    "print(cm)\n",
    "print(f\"Precision: {precision:.2f}\")\n",
    "print(f\"Recall: {recall:.2f}\")\n",
    "print(f\"AUC/ROC: {roc_auc:.2f}\")\n",
    "\n",
    "# Plot the ROC curve\n",
    "plt.figure(figsize=(6, 6))\n",
    "plt.plot(fpr, tpr, color='darkorange', lw=2, label='ROC curve (area = {:.2f})'.format(roc_auc))\n",
    "plt.plot([0, 1], [0, 1], color='navy', lw=2, linestyle='--')\n",
    "plt.xlim([0.0, 1.0])\n",
    "plt.ylim([0.0, 1.05])\n",
    "plt.xlabel('False Positive Rate')\n",
    "plt.ylabel('True Positive Rate')\n",
    "plt.title('Receiver Operating Characteristic')\n",
    "plt.legend(loc='lower right')\n",
    "plt.show()"
   ]
  },
  {
   "cell_type": "markdown",
   "id": "7d54f468",
   "metadata": {},
   "source": [
    "# 7. Summary"
   ]
  },
  {
   "cell_type": "markdown",
   "id": "9bbcf35f",
   "metadata": {},
   "source": [
    "In this notebook, 4 different Machine Learning Models were applied to predict whether the home team of an NFL game would beat the betting spread."
   ]
  },
  {
   "cell_type": "markdown",
   "id": "a541377f",
   "metadata": {},
   "source": [
    "After loading preprocessed data from notebook Cap2_preprocessing_and_data_development, a holdout/validation dataset of the most recent NFL season was set aside to be removed from training.\n",
    "Copies of the dataframe were then made with the two different formats of the target varible home_ATS, continuous and boolean.\n",
    "\n",
    "Some work was then done to experiment with different train/test splitting methods, and it was decided that TimeSeriesSplit would be used for further modeling testing.\n",
    "Each of 4 model types were applied to the data and evaluated: Linear regression, logistic regression, Random forest classifier and random forest regressor. The Random Forest Classifier perfomed the best when trained and evaluated using all data excluding the holdout set, so it was then selected and applied to the validation data."
   ]
  },
  {
   "cell_type": "markdown",
   "id": "34bcbdf8",
   "metadata": {},
   "source": [
    "# 8. Conclusion"
   ]
  },
  {
   "cell_type": "markdown",
   "id": "cddfa012",
   "metadata": {},
   "source": [
    "The leading modeling approach after initial testing, the Random Forest Classifier, scored poorly on the validation data (accuracy score of 0.51), which demonstrates that the model initially performing well may be the result of overfitting or random chance.\n",
    "\n",
    "The target variable in this study, home_ATS, is a value that represents a home team's ability to beat the betting spread, which is inherently very complex to predict because it is a composite value not only of gae outcome, but also must consider the complexity of the sports books developing that pregame predicted betting spread in the first place.\n",
    "\n",
    "It is not extremely surprising, then, that it proved challenging to develop a model to predict teams' performance against the spread using the relatively simple data used as input to this project. \n",
    "\n",
    "In a future attempt to predict games better than the sports book does, it may be valuable to include more sophisticated data such as:\n",
    "- relative team health (injuries)\n",
    "- skill/experience of important people like head coach or quarterback\n",
    "- team style of play over time, like when new coaches bring a change in strategy\n",
    "\n",
    "As part of a larger-scope project, I would also recommend testing more variety of model types and intensity of parameter tuning.\n",
    "\n"
   ]
  },
  {
   "cell_type": "markdown",
   "id": "661f99e6",
   "metadata": {},
   "source": [
    "# References"
   ]
  },
  {
   "cell_type": "markdown",
   "id": "400cc5dd",
   "metadata": {},
   "source": [
    "Feature engineering for Time Series Forecasting. https://www.youtube.com/watch?v=9QtL7m3YS9I"
   ]
  },
  {
   "cell_type": "markdown",
   "id": "49138d23",
   "metadata": {},
   "source": [
    "Advanced time series Forecasting - XGboost example - Rob Mulla https://www.youtube.com/watch?v=z3ZnOW-S550"
   ]
  }
 ],
 "metadata": {
  "kernelspec": {
   "display_name": "Python 3 (ipykernel)",
   "language": "python",
   "name": "python3"
  },
  "language_info": {
   "codemirror_mode": {
    "name": "ipython",
    "version": 3
   },
   "file_extension": ".py",
   "mimetype": "text/x-python",
   "name": "python",
   "nbconvert_exporter": "python",
   "pygments_lexer": "ipython3",
   "version": "3.11.4"
  }
 },
 "nbformat": 4,
 "nbformat_minor": 5
}
