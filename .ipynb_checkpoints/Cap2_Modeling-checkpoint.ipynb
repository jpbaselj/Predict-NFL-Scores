{
 "cells": [
  {
   "cell_type": "markdown",
   "id": "27a4d408",
   "metadata": {},
   "source": [
    "# Setup, Stragetgy, Notes"
   ]
  },
  {
   "cell_type": "markdown",
   "id": "c3171748",
   "metadata": {},
   "source": [
    "note to self - TimeSeriesSplit method for CV?"
   ]
  },
  {
   "cell_type": "markdown",
   "id": "5f0c223f",
   "metadata": {},
   "source": [
    "https://www.youtube.com/watch?v=9QtL7m3YS9I"
   ]
  },
  {
   "cell_type": "markdown",
   "id": "342309ca",
   "metadata": {},
   "source": [
    "##### Types of Models to Explore:\n",
    "Treating ATS spread performance like a continuous variable:\n",
    "- Linear Regression\n",
    "- Random Forest Regressor"
   ]
  },
  {
   "cell_type": "markdown",
   "id": "e2522928",
   "metadata": {},
   "source": [
    "Treating ATS performance as a binary yes/no did you beat the spread\n",
    "- Logistic Regression"
   ]
  },
  {
   "cell_type": "markdown",
   "id": "fe3e6144",
   "metadata": {},
   "source": [
    "Need to figure out how to develop training and testing for this type of time series ish. \n",
    "- Just really small train/test splits?\n",
    "- but then should we iterate over multiple small train/test splits? \n",
    "- if we want to evaluate it for a whole season, you almost have to train it on each previous week before running each future week.\n",
    "\n",
    "- Where possible, model and compare using the scaled and not scaled versions of train test split"
   ]
  },
  {
   "cell_type": "code",
   "execution_count": null,
   "id": "8a090e90",
   "metadata": {},
   "outputs": [],
   "source": []
  },
  {
   "cell_type": "markdown",
   "id": "8fd3ee44",
   "metadata": {},
   "source": [
    "# 1. Intro"
   ]
  },
  {
   "cell_type": "code",
   "execution_count": null,
   "id": "2fc46f56",
   "metadata": {},
   "outputs": [],
   "source": []
  },
  {
   "cell_type": "markdown",
   "id": "9b8a9041",
   "metadata": {},
   "source": [
    "# 2. Imports and Setup"
   ]
  },
  {
   "cell_type": "code",
   "execution_count": 1,
   "id": "5bdbfbe5",
   "metadata": {},
   "outputs": [],
   "source": [
    "#!pip3 install xgboost\n"
   ]
  },
  {
   "cell_type": "code",
   "execution_count": 2,
   "id": "ce5925f3",
   "metadata": {},
   "outputs": [],
   "source": [
    "import pandas as pd\n",
    "import numpy as np\n",
    "import matplotlib.pyplot as plt\n",
    "import seaborn as sns"
   ]
  },
  {
   "cell_type": "code",
   "execution_count": 3,
   "id": "af41fd5c",
   "metadata": {},
   "outputs": [],
   "source": [
    "import xgboost as xgb\n"
   ]
  },
  {
   "cell_type": "code",
   "execution_count": 35,
   "id": "a0d05554",
   "metadata": {},
   "outputs": [],
   "source": [
    "from sklearn.model_selection import TimeSeriesSplit, RandomizedSearchCV, train_test_split\n",
    "from sklearn.ensemble import RandomForestRegressor, RandomForestClassifier\n",
    "from sklearn.metrics import mean_squared_error, mean_absolute_error, accuracy_score, classification_report, confusion_matrix\n",
    "from sklearn.linear_model import LinearRegression, LogisticRegression"
   ]
  },
  {
   "cell_type": "markdown",
   "id": "f510a1b7",
   "metadata": {},
   "source": [
    "# 3. Load data"
   ]
  },
  {
   "cell_type": "code",
   "execution_count": 24,
   "id": "e0c4b204",
   "metadata": {},
   "outputs": [],
   "source": [
    "main_df_numeric = pd.read_csv('./data/main_df_numeric')\n",
    "df = main_df_numeric.drop(['Unnamed: 0.1','Unnamed: 0'], axis=1)"
   ]
  },
  {
   "cell_type": "markdown",
   "id": "0b3fd9cb",
   "metadata": {},
   "source": [
    "Data set for modeling reduced to include \"modern\" football only, as styles of gameplay and therefore scoring trends have changed over time. Modern era of 26 years chosen becuase the longest NFL player career ever was 26 seasons."
   ]
  },
  {
   "cell_type": "code",
   "execution_count": 25,
   "id": "1a4a3c06",
   "metadata": {},
   "outputs": [
    {
     "data": {
      "text/html": [
       "<div>\n",
       "<style scoped>\n",
       "    .dataframe tbody tr th:only-of-type {\n",
       "        vertical-align: middle;\n",
       "    }\n",
       "\n",
       "    .dataframe tbody tr th {\n",
       "        vertical-align: top;\n",
       "    }\n",
       "\n",
       "    .dataframe thead th {\n",
       "        text-align: right;\n",
       "    }\n",
       "</style>\n",
       "<table border=\"1\" class=\"dataframe\">\n",
       "  <thead>\n",
       "    <tr style=\"text-align: right;\">\n",
       "      <th></th>\n",
       "      <th>schedule_season</th>\n",
       "      <th>schedule_week</th>\n",
       "      <th>schedule_playoff</th>\n",
       "      <th>over_under_line</th>\n",
       "      <th>stadium_neutral</th>\n",
       "      <th>weather_temperature</th>\n",
       "      <th>weather_wind_mph</th>\n",
       "      <th>weather_humidity</th>\n",
       "      <th>home_pred_spread</th>\n",
       "      <th>home_ATS</th>\n",
       "      <th>...</th>\n",
       "      <th>away_WAS</th>\n",
       "      <th>weather_detail__fog</th>\n",
       "      <th>weather_detail__indoor</th>\n",
       "      <th>weather_detail__none</th>\n",
       "      <th>weather_detail__rain</th>\n",
       "      <th>weather_detail__rain | fog</th>\n",
       "      <th>weather_detail__retractable (open roof)</th>\n",
       "      <th>weather_detail__snow</th>\n",
       "      <th>weather_detail__snow | Freezing rain</th>\n",
       "      <th>weather_detail__snow | fog</th>\n",
       "    </tr>\n",
       "  </thead>\n",
       "  <tbody>\n",
       "    <tr>\n",
       "      <th>3779</th>\n",
       "      <td>1996</td>\n",
       "      <td>1</td>\n",
       "      <td>False</td>\n",
       "      <td>40.0</td>\n",
       "      <td>False</td>\n",
       "      <td>71.0</td>\n",
       "      <td>5.0</td>\n",
       "      <td>70.000000</td>\n",
       "      <td>-1.0</td>\n",
       "      <td>4.0</td>\n",
       "      <td>...</td>\n",
       "      <td>False</td>\n",
       "      <td>False</td>\n",
       "      <td>False</td>\n",
       "      <td>True</td>\n",
       "      <td>False</td>\n",
       "      <td>False</td>\n",
       "      <td>False</td>\n",
       "      <td>False</td>\n",
       "      <td>False</td>\n",
       "      <td>False</td>\n",
       "    </tr>\n",
       "    <tr>\n",
       "      <th>3780</th>\n",
       "      <td>1996</td>\n",
       "      <td>1</td>\n",
       "      <td>False</td>\n",
       "      <td>41.0</td>\n",
       "      <td>False</td>\n",
       "      <td>72.0</td>\n",
       "      <td>6.0</td>\n",
       "      <td>65.000000</td>\n",
       "      <td>3.0</td>\n",
       "      <td>26.0</td>\n",
       "      <td>...</td>\n",
       "      <td>False</td>\n",
       "      <td>False</td>\n",
       "      <td>False</td>\n",
       "      <td>True</td>\n",
       "      <td>False</td>\n",
       "      <td>False</td>\n",
       "      <td>False</td>\n",
       "      <td>False</td>\n",
       "      <td>False</td>\n",
       "      <td>False</td>\n",
       "    </tr>\n",
       "    <tr>\n",
       "      <th>3781</th>\n",
       "      <td>1996</td>\n",
       "      <td>1</td>\n",
       "      <td>False</td>\n",
       "      <td>42.0</td>\n",
       "      <td>False</td>\n",
       "      <td>74.0</td>\n",
       "      <td>14.0</td>\n",
       "      <td>30.000000</td>\n",
       "      <td>-8.0</td>\n",
       "      <td>17.0</td>\n",
       "      <td>...</td>\n",
       "      <td>False</td>\n",
       "      <td>False</td>\n",
       "      <td>False</td>\n",
       "      <td>True</td>\n",
       "      <td>False</td>\n",
       "      <td>False</td>\n",
       "      <td>False</td>\n",
       "      <td>False</td>\n",
       "      <td>False</td>\n",
       "      <td>False</td>\n",
       "    </tr>\n",
       "    <tr>\n",
       "      <th>3782</th>\n",
       "      <td>1996</td>\n",
       "      <td>1</td>\n",
       "      <td>False</td>\n",
       "      <td>38.0</td>\n",
       "      <td>False</td>\n",
       "      <td>72.0</td>\n",
       "      <td>0.0</td>\n",
       "      <td>66.555363</td>\n",
       "      <td>4.0</td>\n",
       "      <td>3.0</td>\n",
       "      <td>...</td>\n",
       "      <td>False</td>\n",
       "      <td>False</td>\n",
       "      <td>True</td>\n",
       "      <td>False</td>\n",
       "      <td>False</td>\n",
       "      <td>False</td>\n",
       "      <td>False</td>\n",
       "      <td>False</td>\n",
       "      <td>False</td>\n",
       "      <td>False</td>\n",
       "    </tr>\n",
       "    <tr>\n",
       "      <th>3783</th>\n",
       "      <td>1996</td>\n",
       "      <td>1</td>\n",
       "      <td>False</td>\n",
       "      <td>38.0</td>\n",
       "      <td>False</td>\n",
       "      <td>72.0</td>\n",
       "      <td>0.0</td>\n",
       "      <td>66.555363</td>\n",
       "      <td>-8.5</td>\n",
       "      <td>-1.5</td>\n",
       "      <td>...</td>\n",
       "      <td>False</td>\n",
       "      <td>False</td>\n",
       "      <td>True</td>\n",
       "      <td>False</td>\n",
       "      <td>False</td>\n",
       "      <td>False</td>\n",
       "      <td>False</td>\n",
       "      <td>False</td>\n",
       "      <td>False</td>\n",
       "      <td>False</td>\n",
       "    </tr>\n",
       "  </tbody>\n",
       "</table>\n",
       "<p>5 rows × 84 columns</p>\n",
       "</div>"
      ],
      "text/plain": [
       "      schedule_season  schedule_week  schedule_playoff  over_under_line  \\\n",
       "3779             1996              1             False             40.0   \n",
       "3780             1996              1             False             41.0   \n",
       "3781             1996              1             False             42.0   \n",
       "3782             1996              1             False             38.0   \n",
       "3783             1996              1             False             38.0   \n",
       "\n",
       "      stadium_neutral  weather_temperature  weather_wind_mph  \\\n",
       "3779            False                 71.0               5.0   \n",
       "3780            False                 72.0               6.0   \n",
       "3781            False                 74.0              14.0   \n",
       "3782            False                 72.0               0.0   \n",
       "3783            False                 72.0               0.0   \n",
       "\n",
       "      weather_humidity  home_pred_spread  home_ATS  ...  away_WAS  \\\n",
       "3779         70.000000              -1.0       4.0  ...     False   \n",
       "3780         65.000000               3.0      26.0  ...     False   \n",
       "3781         30.000000              -8.0      17.0  ...     False   \n",
       "3782         66.555363               4.0       3.0  ...     False   \n",
       "3783         66.555363              -8.5      -1.5  ...     False   \n",
       "\n",
       "      weather_detail__fog  weather_detail__indoor  weather_detail__none  \\\n",
       "3779                False                   False                  True   \n",
       "3780                False                   False                  True   \n",
       "3781                False                   False                  True   \n",
       "3782                False                    True                 False   \n",
       "3783                False                    True                 False   \n",
       "\n",
       "      weather_detail__rain  weather_detail__rain | fog  \\\n",
       "3779                 False                       False   \n",
       "3780                 False                       False   \n",
       "3781                 False                       False   \n",
       "3782                 False                       False   \n",
       "3783                 False                       False   \n",
       "\n",
       "      weather_detail__retractable (open roof)  weather_detail__snow  \\\n",
       "3779                                    False                 False   \n",
       "3780                                    False                 False   \n",
       "3781                                    False                 False   \n",
       "3782                                    False                 False   \n",
       "3783                                    False                 False   \n",
       "\n",
       "      weather_detail__snow | Freezing rain  weather_detail__snow | fog  \n",
       "3779                                 False                       False  \n",
       "3780                                 False                       False  \n",
       "3781                                 False                       False  \n",
       "3782                                 False                       False  \n",
       "3783                                 False                       False  \n",
       "\n",
       "[5 rows x 84 columns]"
      ]
     },
     "execution_count": 25,
     "metadata": {},
     "output_type": "execute_result"
    }
   ],
   "source": [
    "df = df[df.schedule_season > 1995]\n",
    "df.head()"
   ]
  },
  {
   "cell_type": "markdown",
   "id": "7d8517e2",
   "metadata": {},
   "source": [
    "# 4. Sandbox"
   ]
  },
  {
   "cell_type": "markdown",
   "id": "42a6538a",
   "metadata": {},
   "source": [
    "## 4.1 How to manage training/test splits"
   ]
  },
  {
   "cell_type": "code",
   "execution_count": 7,
   "id": "91296246",
   "metadata": {},
   "outputs": [],
   "source": [
    "import warnings\n",
    "warnings.filterwarnings('ignore')"
   ]
  },
  {
   "cell_type": "code",
   "execution_count": 8,
   "id": "7c95e5c7",
   "metadata": {},
   "outputs": [],
   "source": [
    "color_pal = sns.color_palette()\n",
    "plt.style.use('fivethirtyeight')"
   ]
  },
  {
   "cell_type": "code",
   "execution_count": 9,
   "id": "e5d248c8",
   "metadata": {},
   "outputs": [
    {
     "data": {
      "text/plain": [
       "<Axes: title={'center': 'Train/Test split'}>"
      ]
     },
     "execution_count": 9,
     "metadata": {},
     "output_type": "execute_result"
    },
    {
     "data": {
      "image/png": "[encoded data removed]",
      "text/plain": [
       "<Figure size 800x400 with 1 Axes>"
      ]
     },
     "metadata": {},
     "output_type": "display_data"
    }
   ],
   "source": [
    "#Visualize standard cross validation\n",
    "standard_train = df[df.schedule_season != 2022]\n",
    "standard_test = df[df.schedule_season == 2022]\n",
    "\n",
    "#visualize data split\n",
    "fig, ax = plt.subplots(figsize=(8,4))\n",
    "standard_train.home_ATS.plot(ax=ax, label='Training', title='Train/Test split', markersize=0.01)\n",
    "standard_test.home_ATS.plot(ax=ax, label='Testing')"
   ]
  },
  {
   "cell_type": "code",
   "execution_count": null,
   "id": "33ca649a",
   "metadata": {},
   "outputs": [],
   "source": []
  },
  {
   "cell_type": "code",
   "execution_count": 10,
   "id": "40423bf4",
   "metadata": {},
   "outputs": [],
   "source": [
    "#fig,axs = plt.subplots(5,1, figsize=(7,7), sharex=True)"
   ]
  },
  {
   "cell_type": "markdown",
   "id": "512ee376",
   "metadata": {},
   "source": [
    "##### Example from Youtube Rob Mulla\n",
    "https://www.youtube.com/watch?v=z3ZnOW-S550"
   ]
  },
  {
   "cell_type": "code",
   "execution_count": 11,
   "id": "b9439734",
   "metadata": {},
   "outputs": [],
   "source": [
    "'''\n",
    "\n",
    "tss = TimeSeriesSplit(n_splits=3, test_size=16, gap=0)\n",
    "\n",
    "fold=0\n",
    "preds=[]\n",
    "scores=[]\n",
    "\n",
    "for train_idx, val_idx, in tss.split(df):\n",
    "    train = df.iloc[train_idx]\n",
    "    test = df.iloc[val_idx]\n",
    "    \n",
    "    X_train = train.drop('home_ATS', axis=1)\n",
    "    y_train = train.home_ATS\n",
    "    \n",
    "    X_test = test.drop('home_ATS', axis=1)\n",
    "    y_test = test.home_ATS\n",
    "    \n",
    "    xg_mod = xgb.XGBRegressor(base_score = 0.5,\n",
    "                             booster='gbtree',\n",
    "                             n_estimators=1000, early_stopping_rounds=50,\n",
    "                             objective='reg:linear', max_depth=3,\n",
    "                             learning_rate=0.01)\n",
    "    xg_mod.fit(X_train, y_train, \n",
    "              eval_set=[(X_train,y_train), (X_test,y_test)],\n",
    "              verbose=500)\n",
    "    \n",
    "    y_pred = xg_mod.predict(X_test)\n",
    "    preds.append(y_pred)\n",
    "    score = np.sqrt(mean_squared_error(y_test, y_pred))\n",
    "    scores.append(score)\n",
    "\n",
    "    fold+=1\n",
    "    \n",
    "print(f'Avg RMSE score across folds {np.mean(scores):0.4f}')\n",
    "print(f'Individual scores: {scores}')\n",
    "\n",
    "''';"
   ]
  },
  {
   "cell_type": "markdown",
   "id": "6c94a9de",
   "metadata": {},
   "source": [
    "##### Template from above to use across future testing"
   ]
  },
  {
   "cell_type": "code",
   "execution_count": 32,
   "id": "b7ff609d",
   "metadata": {},
   "outputs": [
    {
     "name": "stdout",
     "output_type": "stream",
     "text": [
      "Avg MAE score across folds 9.5924\n",
      "Median prediction percentiles: [-4.05961895 -0.19619106  0.47918406  0.49466169 10.54833126]\n"
     ]
    }
   ],
   "source": [
    "# Split Time-series-based Train and Test sets - may not need to be duplicated?\n",
    "tss = TimeSeriesSplit(n_splits=34, test_size=16, gap=0)  #34 splits by 16 games represents two seasons\n",
    "\n",
    "fold=0\n",
    "preds=[]\n",
    "scores=[]\n",
    "\n",
    "for train_idx, val_idx, in tss.split(df):\n",
    "    train = df.iloc[train_idx]\n",
    "    test = df.iloc[val_idx]\n",
    "    \n",
    "    X_train = train.drop('home_ATS', axis=1)\n",
    "    y_train = train.home_ATS\n",
    "    \n",
    "    X_test = test.drop('home_ATS', axis=1)\n",
    "    y_test = test.home_ATS\n",
    "    \n",
    "    #INSTANTIATE NEW MODEL HERE\n",
    "    \n",
    "    xg_mod = xgb.XGBRegressor(base_score = 0.5,\n",
    "                             booster='gbtree',\n",
    "                             n_estimators=1000, early_stopping_rounds=50,\n",
    "                             objective='reg:linear', max_depth=3,\n",
    "                             learning_rate=0.01)\n",
    "    xg_mod.fit(X_train, y_train, \n",
    "              eval_set=[(X_train,y_train), (X_test,y_test)],\n",
    "              verbose=0)\n",
    "    \n",
    "    y_pred = xg_mod.predict(X_test)\n",
    "    preds.append(y_pred)\n",
    "    score = mean_absolute_error(y_test, y_pred)\n",
    "    scores.append(score)\n",
    "\n",
    "    fold+=1\n",
    "    \n",
    "print(f'Avg MAE score across folds {np.mean(scores):0.4f}')\n",
    "print(f'Median prediction percentiles: {np.percentile(preds, q=[0,25,50,75,100])}')\n",
    "    \n"
   ]
  },
  {
   "cell_type": "code",
   "execution_count": null,
   "id": "dcf61134",
   "metadata": {},
   "outputs": [],
   "source": []
  },
  {
   "cell_type": "code",
   "execution_count": null,
   "id": "7c1f7408",
   "metadata": {},
   "outputs": [],
   "source": []
  },
  {
   "cell_type": "code",
   "execution_count": null,
   "id": "3b00ef1e",
   "metadata": {},
   "outputs": [],
   "source": []
  },
  {
   "cell_type": "markdown",
   "id": "dcc69595",
   "metadata": {},
   "source": [
    "# 5. Explore and Evaluate Models"
   ]
  },
  {
   "cell_type": "markdown",
   "id": "8379aaa3",
   "metadata": {},
   "source": [
    "## 5.1 Treating performance ATS as continuous"
   ]
  },
  {
   "cell_type": "markdown",
   "id": "67f80e3c",
   "metadata": {},
   "source": [
    "### 5.1.1 Random Forest Regressor"
   ]
  },
  {
   "cell_type": "code",
   "execution_count": 26,
   "id": "7e472beb",
   "metadata": {},
   "outputs": [],
   "source": [
    "# Split Time-series-based Train and Test sets - may not need to be duplicated?\n",
    "tss = TimeSeriesSplit(n_splits=17, test_size=16, gap=0)  #17 splits by 16 games represents two seasons\n",
    "\n",
    "fold=0\n",
    "preds=[]\n",
    "scores=[]\n",
    "abs_scores=[]\n",
    "\n",
    "for train_idx, val_idx, in tss.split(df):\n",
    "    train = df.iloc[train_idx]\n",
    "    test = df.iloc[val_idx]\n",
    "    \n",
    "    X_train = train.drop('home_ATS', axis=1)\n",
    "    y_train = train.home_ATS\n",
    "    \n",
    "    X_test = test.drop('home_ATS', axis=1)\n",
    "    y_test = test.home_ATS\n",
    "    \n",
    "    #INSTANTIATE NEW MODEL HERE\n",
    "    \n",
    "    rf_model = RandomForestRegressor(\n",
    "            n_estimators=160,  # Number of trees in the forest\n",
    "            max_depth=2,    # Maximum depth of the tree nodes\n",
    "            min_samples_split=7,  # Minimum number of samples required to split an internal node\n",
    "            max_features='log2',  \n",
    "            random_state=42)\n",
    "\n",
    "    rf_model.fit(X_train, y_train)\n",
    "    \n",
    "    y_pred = rf_model.predict(X_test)\n",
    "    preds.append(y_pred)\n",
    "    score = np.sqrt(mean_squared_error(y_test, y_pred))\n",
    "    scores.append(score)\n",
    "    \n",
    "    abs_score = mean_absolute_error(y_test, y_pred)\n",
    "    abs_scores.append(abs_score)\n",
    "\n",
    "    fold+=1\n"
   ]
  },
  {
   "cell_type": "code",
   "execution_count": 31,
   "id": "39c5a689",
   "metadata": {},
   "outputs": [
    {
     "name": "stdout",
     "output_type": "stream",
     "text": [
      "Avg RMSE score across folds 11.2249\n",
      "Avg MAE score across folds 8.7162\n",
      "Median prediction percentiles: [-0.70416161 -0.13238679 -0.04273078  0.03963932  0.53765663]\n"
     ]
    }
   ],
   "source": [
    "print(f'Avg RMSE score across folds {np.mean(scores):0.4f}')\n",
    "print(f'Avg MAE score across folds {np.mean(abs_scores):0.4f}')\n",
    "print(f'Median prediction percentiles: {np.percentile(preds, q=[0,25,50,75,100])}')"
   ]
  },
  {
   "cell_type": "markdown",
   "id": "aa5d97d7",
   "metadata": {},
   "source": [
    "#### Parameter Tuning"
   ]
  },
  {
   "cell_type": "markdown",
   "id": "a57762d4",
   "metadata": {},
   "source": [
    "Note: this parameter tuning is located after the iterative time-based test splitting in this notebook, however in practice the resulting optimal values are added back to the above modeling."
   ]
  },
  {
   "cell_type": "code",
   "execution_count": 15,
   "id": "a2d54831",
   "metadata": {},
   "outputs": [],
   "source": [
    "'''import warnings\n",
    "warnings.filterwarnings('ignore')\n",
    "\n",
    "# Define the parameter grid for RandomizedSearchCV\n",
    "param_grid = {\n",
    "    'n_estimators': np.arange(10, 200, 10),           # Number of trees in the forest\n",
    "    'max_depth': [None] + list(np.arange(2, 20)),    # Maximum depth of the tree nodes\n",
    "    'min_samples_split': np.arange(2, 11),           # Minimum number of samples required to split an internal node\n",
    "    'max_features': ['auto', 'sqrt', 'log2'],        # Number of features to consider when looking for the best split\n",
    "    'random_state': [42]\n",
    "    }\n",
    "\n",
    "# Create the RandomForestRegressor model\n",
    "rf_model = RandomForestRegressor()\n",
    "\n",
    "# Create RandomizedSearchCV object\n",
    "random_search = RandomizedSearchCV(\n",
    "    rf_model, param_distributions=param_grid, n_iter=100, scoring='neg_mean_absolute_error', cv=5, n_jobs=-1\n",
    ")\n",
    "\n",
    "# Fit the RandomizedSearchCV to the training data\n",
    "random_search.fit(X_train, y_train);\n",
    "\n",
    "# Get the best hyperparameters from the search\n",
    "best_params = random_search.best_params_\n",
    "print(\"Best Hyperparameters:\")\n",
    "print(best_params)\n",
    "\n",
    "''';"
   ]
  },
  {
   "cell_type": "markdown",
   "id": "7e309b54",
   "metadata": {},
   "source": [
    "Output of above saved as text: \n",
    "Best Hyperparameters:\n",
    "{'random_state': 42, 'n_estimators': 130, 'min_samples_split': 9, 'max_features': 'log2', 'max_depth': 2}"
   ]
  },
  {
   "cell_type": "code",
   "execution_count": 16,
   "id": "43f0e0db",
   "metadata": {},
   "outputs": [
    {
     "ename": "NameError",
     "evalue": "name 'random_search' is not defined",
     "output_type": "error",
     "traceback": [
      "\u001b[0;31m---------------------------------------------------------------------------\u001b[0m",
      "\u001b[0;31mNameError\u001b[0m                                 Traceback (most recent call last)",
      "Cell \u001b[0;32mIn[16], line 2\u001b[0m\n\u001b[1;32m      1\u001b[0m \u001b[38;5;66;03m# Evaluate the model with the best hyperparameters on the test set\u001b[39;00m\n\u001b[0;32m----> 2\u001b[0m best_rf_model \u001b[38;5;241m=\u001b[39m \u001b[43mrandom_search\u001b[49m\u001b[38;5;241m.\u001b[39mbest_estimator_\n\u001b[1;32m      3\u001b[0m y_pred \u001b[38;5;241m=\u001b[39m best_rf_model\u001b[38;5;241m.\u001b[39mpredict(X_test)\n\u001b[1;32m      5\u001b[0m \u001b[38;5;66;03m# Calculate the root mean squared error as an evaluation metric\u001b[39;00m\n",
      "\u001b[0;31mNameError\u001b[0m: name 'random_search' is not defined"
     ]
    }
   ],
   "source": [
    "# Evaluate the model with the best hyperparameters on the test set\n",
    "best_rf_model = random_search.best_estimator_\n",
    "y_pred = best_rf_model.predict(X_test)\n",
    "\n",
    "# Calculate the root mean squared error as an evaluation metric\n",
    "mae = mean_absolute_error(y_test, y_pred)\n",
    "print(f\"Mean absolute Error on Test Data: {mae}\")"
   ]
  },
  {
   "cell_type": "markdown",
   "id": "0d857b42",
   "metadata": {},
   "source": [
    "### 5.1.2 Linear Regression"
   ]
  },
  {
   "cell_type": "code",
   "execution_count": 17,
   "id": "89554af6",
   "metadata": {},
   "outputs": [],
   "source": [
    "# Split Time-series-based Train and Test sets - may not need to be duplicated?\n",
    "tss = TimeSeriesSplit(n_splits=34, test_size=16, gap=0)  #34 splits by 16 games represents two seasons\n",
    "\n",
    "fold=0\n",
    "preds=[]\n",
    "scores=[]\n",
    "\n",
    "for train_idx, val_idx, in tss.split(df):\n",
    "    train = df.iloc[train_idx]\n",
    "    test = df.iloc[val_idx]\n",
    "    \n",
    "    X_train = train.drop('home_ATS', axis=1)\n",
    "    y_train = train.home_ATS\n",
    "    \n",
    "    X_test = test.drop('home_ATS', axis=1)\n",
    "    y_test = test.home_ATS\n",
    "    \n",
    "    #INSTANTIATE NEW MODEL HERE\n",
    "    \n",
    "    # Create the Linear Regression model\n",
    "    lr_model = LinearRegression()\n",
    "\n",
    "    # Fit the model to the training data\n",
    "    lr_model.fit(X_train, y_train)\n",
    "\n",
    "    # Make predictions on the test set\n",
    "    y_pred = lr_model.predict(X_test)\n",
    "\n",
    "    preds.append(y_pred)\n",
    "    score = mean_absolute_error(y_test, y_pred)\n",
    "    scores.append(score)\n",
    "\n",
    "    fold+=1"
   ]
  },
  {
   "cell_type": "code",
   "execution_count": 18,
   "id": "861b629c",
   "metadata": {},
   "outputs": [
    {
     "name": "stdout",
     "output_type": "stream",
     "text": [
      "Avg MAE score across folds for Linear Regression 9.8381\n"
     ]
    }
   ],
   "source": [
    "print(f'Avg MAE score across folds for Linear Regression {np.mean(scores):0.4f}')"
   ]
  },
  {
   "cell_type": "markdown",
   "id": "0893eecd",
   "metadata": {},
   "source": [
    "## 5.2 Treating performance ATS as discrete"
   ]
  },
  {
   "cell_type": "markdown",
   "id": "f13457ea",
   "metadata": {},
   "source": [
    "Convert home_ATS to a discrete variable - True is a home win and False is an away win"
   ]
  },
  {
   "cell_type": "code",
   "execution_count": 19,
   "id": "8e219e70",
   "metadata": {},
   "outputs": [],
   "source": [
    "df_tf = df.copy()\n",
    "df_tf['home_ATS'] = df.home_ATS > 0\n",
    "df_tf.head();"
   ]
  },
  {
   "cell_type": "markdown",
   "id": "8841d440",
   "metadata": {},
   "source": [
    "### 5.2.1 Logistic regression"
   ]
  },
  {
   "cell_type": "code",
   "execution_count": 20,
   "id": "35dc80bd",
   "metadata": {},
   "outputs": [],
   "source": [
    "# Split Time-series-based Train and Test sets - may not need to be duplicated?\n",
    "tss = TimeSeriesSplit(n_splits=34, test_size=16, gap=0)  #34 splits by 16 games represents two seasons\n",
    "\n",
    "fold=0\n",
    "preds=[]\n",
    "accuracies=[]\n",
    "\n",
    "for train_idx, val_idx, in tss.split(df_tf):\n",
    "    train = df_tf.iloc[train_idx]\n",
    "    test = df_tf.iloc[val_idx]\n",
    "    \n",
    "    X_train = train.drop('home_ATS', axis=1)\n",
    "    y_train = train.home_ATS\n",
    "    \n",
    "    X_test = test.drop('home_ATS', axis=1)\n",
    "    y_test = test.home_ATS\n",
    "    \n",
    "    #INSTANTIATE NEW MODEL HERE\n",
    "    \n",
    "    logistic_model = LogisticRegression()\n",
    "    logistic_model.fit(X_train, y_train)\n",
    "    y_pred = logistic_model.predict(X_test)\n",
    "    \n",
    "    accuracy = accuracy_score(y_test, y_pred)\n",
    "    \n",
    "    preds.append(y_pred)\n",
    "    accuracies.append(accuracy)\n",
    "\n",
    "    fold+=1"
   ]
  },
  {
   "cell_type": "code",
   "execution_count": 21,
   "id": "a51dec7f",
   "metadata": {},
   "outputs": [
    {
     "name": "stdout",
     "output_type": "stream",
     "text": [
      "Mean accuracies: 0.5129\n"
     ]
    }
   ],
   "source": [
    "print(f\"Mean accuracies: {np.mean(accuracies):0.4f}\")"
   ]
  },
  {
   "cell_type": "code",
   "execution_count": null,
   "id": "f679b360",
   "metadata": {},
   "outputs": [],
   "source": []
  },
  {
   "cell_type": "markdown",
   "id": "bdf8a8e5",
   "metadata": {},
   "source": [
    "### 5.2.2 Random Forest Classifier"
   ]
  },
  {
   "cell_type": "code",
   "execution_count": 40,
   "id": "498dc616",
   "metadata": {},
   "outputs": [
    {
     "name": "stdout",
     "output_type": "stream",
     "text": [
      "Mean accuracies: 0.5153\n"
     ]
    }
   ],
   "source": [
    "# Split Time-series-based Train and Test sets - may not need to be duplicated?\n",
    "tss = TimeSeriesSplit(n_splits=34, test_size=16, gap=0)  #17 splits by 16 games represents two seasons\n",
    "\n",
    "fold=0\n",
    "preds=[]\n",
    "scores=[]\n",
    "abs_scores=[]\n",
    "\n",
    "for train_idx, val_idx, in tss.split(df_tf):\n",
    "    train = df_tf.iloc[train_idx]\n",
    "    test = df_tf.iloc[val_idx]\n",
    "    \n",
    "    X_train = train.drop('home_ATS', axis=1)\n",
    "    y_train = train.home_ATS\n",
    "    \n",
    "    X_test = test.drop('home_ATS', axis=1)\n",
    "    y_test = test.home_ATS\n",
    "    \n",
    "    #INSTANTIATE NEW MODEL HERE\n",
    "    \n",
    "    rf_model = RandomForestClassifier(\n",
    "            n_estimators=90,  # Number of trees in the forest\n",
    "            max_depth=18,    # Maximum depth of the tree nodes\n",
    "            min_samples_split=4,  # Minimum number of samples required to split an internal node\n",
    "            max_features='log2',  \n",
    "            random_state=42)\n",
    "\n",
    "    rf_model.fit(X_train, y_train)\n",
    "    \n",
    "    y_pred = rf_model.predict(X_test)\n",
    "    preds.append(y_pred)\n",
    "    accuracy = accuracy_score(y_test, y_pred)\n",
    "    \n",
    "    preds.append(y_pred)\n",
    "    accuracies.append(accuracy)\n",
    "\n",
    "\n",
    "    fold+=1\n",
    "    \n",
    "print(f\"Mean accuracies: {np.mean(accuracies):0.4f}\")"
   ]
  },
  {
   "cell_type": "markdown",
   "id": "cfe23e9d",
   "metadata": {},
   "source": [
    "Best Hyperparameters:\n",
    "{'random_state': 42, 'n_estimators': 90, 'min_samples_split': 4, 'max_features': 'log2', 'max_depth': 18}"
   ]
  },
  {
   "cell_type": "code",
   "execution_count": null,
   "id": "e8d501be",
   "metadata": {},
   "outputs": [],
   "source": []
  },
  {
   "cell_type": "code",
   "execution_count": 38,
   "id": "767ae0d5",
   "metadata": {},
   "outputs": [
    {
     "data": {
      "text/plain": [
       "'\\n# Define the parameter grid for RandomizedSearchCV\\nparam_grid = {\\n    \\'n_estimators\\': np.arange(10, 200, 10),           # Number of trees in the forest\\n    \\'max_depth\\': [None] + list(np.arange(2, 20)),    # Maximum depth of the tree nodes\\n    \\'min_samples_split\\': np.arange(2, 11),           # Minimum number of samples required to split an internal node\\n    \\'max_features\\': [\\'auto\\', \\'sqrt\\', \\'log2\\'],        # Number of features to consider when looking for the best split\\n    \\'random_state\\': [42]\\n    }\\n\\n# Create the RandomForestRegressor model\\nrf_model = RandomForestClassifier()\\n\\n# Create RandomizedSearchCV object\\nrandom_search = RandomizedSearchCV(\\n    rf_model, param_distributions=param_grid, n_iter=100, scoring=\\'neg_mean_absolute_error\\', cv=5, n_jobs=-1\\n)\\n\\n# Fit the RandomizedSearchCV to the training data\\nrandom_search.fit(X_train, y_train);\\n\\n# Get the best hyperparameters from the search\\nbest_params = random_search.best_params_\\nprint(\"Best Hyperparameters:\")\\nprint(best_params)'"
      ]
     },
     "execution_count": 38,
     "metadata": {},
     "output_type": "execute_result"
    }
   ],
   "source": [
    "'''\n",
    "# Define the parameter grid for RandomizedSearchCV\n",
    "param_grid = {\n",
    "    'n_estimators': np.arange(10, 200, 10),           # Number of trees in the forest\n",
    "    'max_depth': [None] + list(np.arange(2, 20)),    # Maximum depth of the tree nodes\n",
    "    'min_samples_split': np.arange(2, 11),           # Minimum number of samples required to split an internal node\n",
    "    'max_features': ['auto', 'sqrt', 'log2'],        # Number of features to consider when looking for the best split\n",
    "    'random_state': [42]\n",
    "    }\n",
    "\n",
    "# Create the RandomForestRegressor model\n",
    "rf_model = RandomForestClassifier()\n",
    "\n",
    "# Create RandomizedSearchCV object\n",
    "random_search = RandomizedSearchCV(\n",
    "    rf_model, param_distributions=param_grid, n_iter=100, scoring='neg_mean_absolute_error', cv=5, n_jobs=-1\n",
    ")\n",
    "\n",
    "# Fit the RandomizedSearchCV to the training data\n",
    "random_search.fit(X_train, y_train);\n",
    "\n",
    "# Get the best hyperparameters from the search\n",
    "best_params = random_search.best_params_\n",
    "print(\"Best Hyperparameters:\")\n",
    "print(best_params)'''"
   ]
  },
  {
   "cell_type": "code",
   "execution_count": null,
   "id": "0233574c",
   "metadata": {},
   "outputs": [],
   "source": []
  },
  {
   "cell_type": "markdown",
   "id": "64967749",
   "metadata": {},
   "source": [
    "# 6. Model how well best performers would translate to monetary profits"
   ]
  },
  {
   "cell_type": "markdown",
   "id": "a9260af4",
   "metadata": {},
   "source": [
    "? compare risks to profits. Do we have a way to calculate confidence?"
   ]
  },
  {
   "cell_type": "code",
   "execution_count": null,
   "id": "5114d17d",
   "metadata": {},
   "outputs": [],
   "source": []
  },
  {
   "cell_type": "code",
   "execution_count": null,
   "id": "d5efc8f4",
   "metadata": {},
   "outputs": [],
   "source": []
  },
  {
   "cell_type": "code",
   "execution_count": null,
   "id": "6f523161",
   "metadata": {},
   "outputs": [],
   "source": []
  },
  {
   "cell_type": "markdown",
   "id": "46a00366",
   "metadata": {},
   "source": [
    "# 7. Summary"
   ]
  },
  {
   "cell_type": "code",
   "execution_count": null,
   "id": "385b5318",
   "metadata": {},
   "outputs": [],
   "source": []
  },
  {
   "cell_type": "markdown",
   "id": "ea360f40",
   "metadata": {},
   "source": [
    "# 8. Conclusion"
   ]
  },
  {
   "cell_type": "code",
   "execution_count": null,
   "id": "ba7d5d33",
   "metadata": {},
   "outputs": [],
   "source": []
  }
 ],
 "metadata": {
  "kernelspec": {
   "display_name": "Python 3 (ipykernel)",
   "language": "python",
   "name": "python3"
  },
  "language_info": {
   "codemirror_mode": {
    "name": "ipython",
    "version": 3
   },
   "file_extension": ".py",
   "mimetype": "text/x-python",
   "name": "python",
   "nbconvert_exporter": "python",
   "pygments_lexer": "ipython3",
   "version": "3.11.4"
  }
 },
 "nbformat": 4,
 "nbformat_minor": 5
}
