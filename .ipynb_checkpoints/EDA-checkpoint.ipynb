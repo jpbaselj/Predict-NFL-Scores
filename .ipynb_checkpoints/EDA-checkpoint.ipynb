{
 "cells": [
  {
   "cell_type": "markdown",
   "id": "47a2a01d-2c61-4eb5-b16d-f4db5e306dd9",
   "metadata": {},
   "source": [
    "Springboard Capstone 2 Exploratory Data Analysis"
   ]
  },
  {
   "cell_type": "markdown",
   "id": "d6c1b0ee-25b7-4962-8f6c-2f4a2d7dc4f1",
   "metadata": {},
   "source": [
    "RUBRIC COMPLETION:\n",
    "- Every feature is investigated using either histograms, bi-plots, or other visual and numeric means.\n",
    "- Pearson correlation coefficients and other statistical methods were used to identify statistical relationship strengths.\n",
    "- The submission demonstrates that the student made data-supported decisions on when to select specific features.\n"
   ]
  },
  {
   "cell_type": "markdown",
   "id": "cb70efd2-fec7-4cf8-b310-1fdb1dcedb51",
   "metadata": {},
   "source": [
    "Initial brainstorm things to look into:\n",
    "\n",
    "- relationships over time, spread prediction accuracy over the years\n",
    "- heatplot thingy for correlations\n",
    "- weather affects (incl stadium). variability vs true mean shifts for home team??\n",
    "- (should we include predicted spread as input to model or not? probably not for this notebook to decide)\n",
    "- Compare individual teams ATS\n",
    "- look into target variable - what will models actually predict? a score? a spread? a point total? Chance of home team win?\n"
   ]
  },
  {
   "cell_type": "markdown",
   "id": "ba00dba4-faf5-4c6d-b3f3-77ac1f9b09c7",
   "metadata": {},
   "source": [
    "Running list of ideas:\n"
   ]
  },
  {
   "cell_type": "code",
   "execution_count": 1,
   "id": "53a29e95-c7d6-4e88-9634-8ab5a6c42b85",
   "metadata": {},
   "outputs": [],
   "source": [
    "#import relevant modules\n",
    "import pandas as pd\n",
    "import matplotlib.pyplot as plt\n",
    "import seaborn as sns\n",
    "import os\n",
    "import numpy as np\n",
    "\n",
    "from sklearn.decomposition import PCA\n",
    "from sklearn.preprocessing import scale"
   ]
  },
  {
   "cell_type": "markdown",
   "id": "01e16353-637b-4ac2-bce0-7d1c46de00c4",
   "metadata": {},
   "source": [
    "Join dfs to make one clean df"
   ]
  },
  {
   "cell_type": "code",
   "execution_count": 2,
   "id": "487e4f75-8bf0-491c-9323-fd9a25e3448b",
   "metadata": {},
   "outputs": [
    {
     "name": "stdout",
     "output_type": "stream",
     "text": [
      "(44, 9)\n"
     ]
    },
    {
     "data": {
      "text/plain": [
       "(11027, 18)"
      ]
     },
     "execution_count": 2,
     "metadata": {},
     "output_type": "execute_result"
    }
   ],
   "source": [
    "teams = pd.read_csv('./data/teams.csv')\n",
    "scores = pd.read_csv('./data/scores.csv')\n",
    "print(teams.shape)\n",
    "scores.shape"
   ]
  },
  {
   "cell_type": "code",
   "execution_count": 3,
   "id": "04afdd85-d3e3-4911-a195-d347998479f6",
   "metadata": {},
   "outputs": [
    {
     "data": {
      "text/html": [
       "<div>\n",
       "<style scoped>\n",
       "    .dataframe tbody tr th:only-of-type {\n",
       "        vertical-align: middle;\n",
       "    }\n",
       "\n",
       "    .dataframe tbody tr th {\n",
       "        vertical-align: top;\n",
       "    }\n",
       "\n",
       "    .dataframe thead th {\n",
       "        text-align: right;\n",
       "    }\n",
       "</style>\n",
       "<table border=\"1\" class=\"dataframe\">\n",
       "  <thead>\n",
       "    <tr style=\"text-align: right;\">\n",
       "      <th></th>\n",
       "      <th>Unnamed: 0</th>\n",
       "      <th>team_name</th>\n",
       "      <th>team_name_short</th>\n",
       "      <th>team_id</th>\n",
       "      <th>team_id_pfr</th>\n",
       "      <th>team_conference</th>\n",
       "      <th>team_division</th>\n",
       "      <th>team_conference_pre2002</th>\n",
       "      <th>team_division_pre2002</th>\n",
       "    </tr>\n",
       "  </thead>\n",
       "  <tbody>\n",
       "    <tr>\n",
       "      <th>0</th>\n",
       "      <td>0</td>\n",
       "      <td>Arizona Cardinals</td>\n",
       "      <td>Cardinals</td>\n",
       "      <td>ARI</td>\n",
       "      <td>CRD</td>\n",
       "      <td>NFC</td>\n",
       "      <td>NFC West</td>\n",
       "      <td>NFC</td>\n",
       "      <td>NFC West</td>\n",
       "    </tr>\n",
       "    <tr>\n",
       "      <th>1</th>\n",
       "      <td>1</td>\n",
       "      <td>Atlanta Falcons</td>\n",
       "      <td>Falcons</td>\n",
       "      <td>ATL</td>\n",
       "      <td>ATL</td>\n",
       "      <td>NFC</td>\n",
       "      <td>NFC South</td>\n",
       "      <td>NFC</td>\n",
       "      <td>NFC West</td>\n",
       "    </tr>\n",
       "  </tbody>\n",
       "</table>\n",
       "</div>"
      ],
      "text/plain": [
       "   Unnamed: 0          team_name team_name_short team_id team_id_pfr  \\\n",
       "0           0  Arizona Cardinals       Cardinals     ARI         CRD   \n",
       "1           1    Atlanta Falcons         Falcons     ATL         ATL   \n",
       "\n",
       "  team_conference team_division team_conference_pre2002 team_division_pre2002  \n",
       "0             NFC      NFC West                     NFC              NFC West  \n",
       "1             NFC     NFC South                     NFC              NFC West  "
      ]
     },
     "execution_count": 3,
     "metadata": {},
     "output_type": "execute_result"
    }
   ],
   "source": [
    "#visualize structure of teams df\n",
    "teams.head(2)"
   ]
  },
  {
   "cell_type": "code",
   "execution_count": 4,
   "id": "5597ba16-c4b9-4a3d-892e-2d5c40bca3ca",
   "metadata": {},
   "outputs": [
    {
     "data": {
      "text/html": [
       "<div>\n",
       "<style scoped>\n",
       "    .dataframe tbody tr th:only-of-type {\n",
       "        vertical-align: middle;\n",
       "    }\n",
       "\n",
       "    .dataframe tbody tr th {\n",
       "        vertical-align: top;\n",
       "    }\n",
       "\n",
       "    .dataframe thead th {\n",
       "        text-align: right;\n",
       "    }\n",
       "</style>\n",
       "<table border=\"1\" class=\"dataframe\">\n",
       "  <thead>\n",
       "    <tr style=\"text-align: right;\">\n",
       "      <th></th>\n",
       "      <th>Unnamed: 0</th>\n",
       "      <th>schedule_date</th>\n",
       "      <th>schedule_season</th>\n",
       "      <th>schedule_week</th>\n",
       "      <th>schedule_playoff</th>\n",
       "      <th>team_home</th>\n",
       "      <th>score_home</th>\n",
       "      <th>score_away</th>\n",
       "      <th>team_away</th>\n",
       "      <th>team_favorite_id</th>\n",
       "      <th>spread_favorite</th>\n",
       "      <th>over_under_line</th>\n",
       "      <th>stadium</th>\n",
       "      <th>stadium_neutral</th>\n",
       "      <th>weather_temperature</th>\n",
       "      <th>weather_wind_mph</th>\n",
       "      <th>weather_humidity</th>\n",
       "      <th>weather_detail</th>\n",
       "    </tr>\n",
       "  </thead>\n",
       "  <tbody>\n",
       "    <tr>\n",
       "      <th>0</th>\n",
       "      <td>350</td>\n",
       "      <td>1/14/1968</td>\n",
       "      <td>1967</td>\n",
       "      <td>Superbowl</td>\n",
       "      <td>True</td>\n",
       "      <td>Green Bay Packers</td>\n",
       "      <td>33</td>\n",
       "      <td>14</td>\n",
       "      <td>Oakland Raiders</td>\n",
       "      <td>GB</td>\n",
       "      <td>-13.5</td>\n",
       "      <td>43</td>\n",
       "      <td>Orange Bowl</td>\n",
       "      <td>True</td>\n",
       "      <td>60.0</td>\n",
       "      <td>12.0</td>\n",
       "      <td>74.0</td>\n",
       "      <td>NaN</td>\n",
       "    </tr>\n",
       "    <tr>\n",
       "      <th>1</th>\n",
       "      <td>538</td>\n",
       "      <td>1/12/1969</td>\n",
       "      <td>1968</td>\n",
       "      <td>Superbowl</td>\n",
       "      <td>True</td>\n",
       "      <td>Baltimore Colts</td>\n",
       "      <td>7</td>\n",
       "      <td>16</td>\n",
       "      <td>New York Jets</td>\n",
       "      <td>IND</td>\n",
       "      <td>-18.0</td>\n",
       "      <td>40</td>\n",
       "      <td>Orange Bowl</td>\n",
       "      <td>True</td>\n",
       "      <td>66.0</td>\n",
       "      <td>12.0</td>\n",
       "      <td>80.0</td>\n",
       "      <td>rain</td>\n",
       "    </tr>\n",
       "  </tbody>\n",
       "</table>\n",
       "</div>"
      ],
      "text/plain": [
       "   Unnamed: 0 schedule_date  schedule_season schedule_week  schedule_playoff  \\\n",
       "0         350     1/14/1968             1967     Superbowl              True   \n",
       "1         538     1/12/1969             1968     Superbowl              True   \n",
       "\n",
       "           team_home  score_home  score_away        team_away  \\\n",
       "0  Green Bay Packers          33          14  Oakland Raiders   \n",
       "1    Baltimore Colts           7          16    New York Jets   \n",
       "\n",
       "  team_favorite_id  spread_favorite over_under_line      stadium  \\\n",
       "0               GB            -13.5              43  Orange Bowl   \n",
       "1              IND            -18.0              40  Orange Bowl   \n",
       "\n",
       "   stadium_neutral  weather_temperature  weather_wind_mph  weather_humidity  \\\n",
       "0             True                 60.0              12.0              74.0   \n",
       "1             True                 66.0              12.0              80.0   \n",
       "\n",
       "  weather_detail  \n",
       "0            NaN  \n",
       "1           rain  "
      ]
     },
     "execution_count": 4,
     "metadata": {},
     "output_type": "execute_result"
    }
   ],
   "source": [
    "#visualize structure of scores df\n",
    "scores.head(2)"
   ]
  },
  {
   "cell_type": "code",
   "execution_count": 5,
   "id": "354b1880-ef92-4d88-a45c-fc0e6956726b",
   "metadata": {},
   "outputs": [
    {
     "data": {
      "text/html": [
       "<div>\n",
       "<style scoped>\n",
       "    .dataframe tbody tr th:only-of-type {\n",
       "        vertical-align: middle;\n",
       "    }\n",
       "\n",
       "    .dataframe tbody tr th {\n",
       "        vertical-align: top;\n",
       "    }\n",
       "\n",
       "    .dataframe thead th {\n",
       "        text-align: right;\n",
       "    }\n",
       "</style>\n",
       "<table border=\"1\" class=\"dataframe\">\n",
       "  <thead>\n",
       "    <tr style=\"text-align: right;\">\n",
       "      <th></th>\n",
       "      <th>team_id</th>\n",
       "      <th>team_conference</th>\n",
       "      <th>team_division</th>\n",
       "    </tr>\n",
       "    <tr>\n",
       "      <th>team_name</th>\n",
       "      <th></th>\n",
       "      <th></th>\n",
       "      <th></th>\n",
       "    </tr>\n",
       "  </thead>\n",
       "  <tbody>\n",
       "    <tr>\n",
       "      <th>Arizona Cardinals</th>\n",
       "      <td>ARI</td>\n",
       "      <td>NFC</td>\n",
       "      <td>NFC West</td>\n",
       "    </tr>\n",
       "    <tr>\n",
       "      <th>Atlanta Falcons</th>\n",
       "      <td>ATL</td>\n",
       "      <td>NFC</td>\n",
       "      <td>NFC South</td>\n",
       "    </tr>\n",
       "    <tr>\n",
       "      <th>Baltimore Colts</th>\n",
       "      <td>IND</td>\n",
       "      <td>AFC</td>\n",
       "      <td>NaN</td>\n",
       "    </tr>\n",
       "  </tbody>\n",
       "</table>\n",
       "</div>"
      ],
      "text/plain": [
       "                  team_id team_conference team_division\n",
       "team_name                                              \n",
       "Arizona Cardinals     ARI             NFC      NFC West\n",
       "Atlanta Falcons       ATL             NFC     NFC South\n",
       "Baltimore Colts       IND             AFC           NaN"
      ]
     },
     "execution_count": 5,
     "metadata": {},
     "output_type": "execute_result"
    }
   ],
   "source": [
    "#trim to data that will be included in master df\n",
    "teams_keep = teams[['team_name', 'team_id' , 'team_conference' , 'team_division']]\n",
    "teams_keep = teams_keep.set_index('team_name')\n",
    "teams_keep.head(3)"
   ]
  },
  {
   "cell_type": "code",
   "execution_count": 6,
   "id": "bc6b9aae-f6d8-497e-a803-d91aa939075f",
   "metadata": {},
   "outputs": [
    {
     "data": {
      "text/html": [
       "<div>\n",
       "<style scoped>\n",
       "    .dataframe tbody tr th:only-of-type {\n",
       "        vertical-align: middle;\n",
       "    }\n",
       "\n",
       "    .dataframe tbody tr th {\n",
       "        vertical-align: top;\n",
       "    }\n",
       "\n",
       "    .dataframe thead th {\n",
       "        text-align: right;\n",
       "    }\n",
       "</style>\n",
       "<table border=\"1\" class=\"dataframe\">\n",
       "  <thead>\n",
       "    <tr style=\"text-align: right;\">\n",
       "      <th></th>\n",
       "      <th>Unnamed: 0</th>\n",
       "      <th>schedule_date</th>\n",
       "      <th>schedule_season</th>\n",
       "      <th>schedule_week</th>\n",
       "      <th>schedule_playoff</th>\n",
       "      <th>team_home</th>\n",
       "      <th>score_home</th>\n",
       "      <th>score_away</th>\n",
       "      <th>team_away</th>\n",
       "      <th>team_favorite_id</th>\n",
       "      <th>...</th>\n",
       "      <th>over_under_line</th>\n",
       "      <th>stadium</th>\n",
       "      <th>stadium_neutral</th>\n",
       "      <th>weather_temperature</th>\n",
       "      <th>weather_wind_mph</th>\n",
       "      <th>weather_humidity</th>\n",
       "      <th>weather_detail</th>\n",
       "      <th>home_id</th>\n",
       "      <th>home_conf</th>\n",
       "      <th>home_div</th>\n",
       "    </tr>\n",
       "  </thead>\n",
       "  <tbody>\n",
       "    <tr>\n",
       "      <th>0</th>\n",
       "      <td>350</td>\n",
       "      <td>1/14/1968</td>\n",
       "      <td>1967</td>\n",
       "      <td>Superbowl</td>\n",
       "      <td>True</td>\n",
       "      <td>Green Bay Packers</td>\n",
       "      <td>33</td>\n",
       "      <td>14</td>\n",
       "      <td>Oakland Raiders</td>\n",
       "      <td>GB</td>\n",
       "      <td>...</td>\n",
       "      <td>43</td>\n",
       "      <td>Orange Bowl</td>\n",
       "      <td>True</td>\n",
       "      <td>60.0</td>\n",
       "      <td>12.0</td>\n",
       "      <td>74.0</td>\n",
       "      <td>NaN</td>\n",
       "      <td>GB</td>\n",
       "      <td>NFC</td>\n",
       "      <td>NFC North</td>\n",
       "    </tr>\n",
       "    <tr>\n",
       "      <th>1</th>\n",
       "      <td>538</td>\n",
       "      <td>1/12/1969</td>\n",
       "      <td>1968</td>\n",
       "      <td>Superbowl</td>\n",
       "      <td>True</td>\n",
       "      <td>Baltimore Colts</td>\n",
       "      <td>7</td>\n",
       "      <td>16</td>\n",
       "      <td>New York Jets</td>\n",
       "      <td>IND</td>\n",
       "      <td>...</td>\n",
       "      <td>40</td>\n",
       "      <td>Orange Bowl</td>\n",
       "      <td>True</td>\n",
       "      <td>66.0</td>\n",
       "      <td>12.0</td>\n",
       "      <td>80.0</td>\n",
       "      <td>rain</td>\n",
       "      <td>IND</td>\n",
       "      <td>AFC</td>\n",
       "      <td>NaN</td>\n",
       "    </tr>\n",
       "  </tbody>\n",
       "</table>\n",
       "<p>2 rows × 21 columns</p>\n",
       "</div>"
      ],
      "text/plain": [
       "   Unnamed: 0 schedule_date  schedule_season schedule_week  schedule_playoff  \\\n",
       "0         350     1/14/1968             1967     Superbowl              True   \n",
       "1         538     1/12/1969             1968     Superbowl              True   \n",
       "\n",
       "           team_home  score_home  score_away        team_away  \\\n",
       "0  Green Bay Packers          33          14  Oakland Raiders   \n",
       "1    Baltimore Colts           7          16    New York Jets   \n",
       "\n",
       "  team_favorite_id  ...  over_under_line      stadium stadium_neutral  \\\n",
       "0               GB  ...               43  Orange Bowl            True   \n",
       "1              IND  ...               40  Orange Bowl            True   \n",
       "\n",
       "   weather_temperature  weather_wind_mph  weather_humidity  weather_detail  \\\n",
       "0                 60.0              12.0              74.0             NaN   \n",
       "1                 66.0              12.0              80.0            rain   \n",
       "\n",
       "  home_id home_conf   home_div  \n",
       "0      GB       NFC  NFC North  \n",
       "1     IND       AFC        NaN  \n",
       "\n",
       "[2 rows x 21 columns]"
      ]
     },
     "execution_count": 6,
     "metadata": {},
     "output_type": "execute_result"
    }
   ],
   "source": [
    "#merge the team info into scores - for the home team\n",
    "score_w_home = scores.merge(teams_keep, left_on='team_home', right_on='team_name', how='left', \n",
    "                            suffixes=[None,'_home']).rename(columns = {'team_id':'home_id', \n",
    "                                                                       'team_conference':'home_conf',\n",
    "                                                                       'team_division':'home_div'})\n",
    "score_w_home.head(2)"
   ]
  },
  {
   "cell_type": "code",
   "execution_count": 7,
   "id": "e10d186b-f96c-4aeb-bbc0-07339ad77bc1",
   "metadata": {},
   "outputs": [
    {
     "data": {
      "text/html": [
       "<div>\n",
       "<style scoped>\n",
       "    .dataframe tbody tr th:only-of-type {\n",
       "        vertical-align: middle;\n",
       "    }\n",
       "\n",
       "    .dataframe tbody tr th {\n",
       "        vertical-align: top;\n",
       "    }\n",
       "\n",
       "    .dataframe thead th {\n",
       "        text-align: right;\n",
       "    }\n",
       "</style>\n",
       "<table border=\"1\" class=\"dataframe\">\n",
       "  <thead>\n",
       "    <tr style=\"text-align: right;\">\n",
       "      <th></th>\n",
       "      <th>Unnamed: 0</th>\n",
       "      <th>schedule_date</th>\n",
       "      <th>schedule_season</th>\n",
       "      <th>schedule_week</th>\n",
       "      <th>schedule_playoff</th>\n",
       "      <th>team_home</th>\n",
       "      <th>score_home</th>\n",
       "      <th>score_away</th>\n",
       "      <th>team_away</th>\n",
       "      <th>team_favorite_id</th>\n",
       "      <th>...</th>\n",
       "      <th>weather_temperature</th>\n",
       "      <th>weather_wind_mph</th>\n",
       "      <th>weather_humidity</th>\n",
       "      <th>weather_detail</th>\n",
       "      <th>home_id</th>\n",
       "      <th>home_conf</th>\n",
       "      <th>home_div</th>\n",
       "      <th>away_id</th>\n",
       "      <th>away_conf</th>\n",
       "      <th>away_div</th>\n",
       "    </tr>\n",
       "  </thead>\n",
       "  <tbody>\n",
       "    <tr>\n",
       "      <th>0</th>\n",
       "      <td>350</td>\n",
       "      <td>1/14/1968</td>\n",
       "      <td>1967</td>\n",
       "      <td>Superbowl</td>\n",
       "      <td>True</td>\n",
       "      <td>Green Bay Packers</td>\n",
       "      <td>33</td>\n",
       "      <td>14</td>\n",
       "      <td>Oakland Raiders</td>\n",
       "      <td>GB</td>\n",
       "      <td>...</td>\n",
       "      <td>60.0</td>\n",
       "      <td>12.0</td>\n",
       "      <td>74.0</td>\n",
       "      <td>NaN</td>\n",
       "      <td>GB</td>\n",
       "      <td>NFC</td>\n",
       "      <td>NFC North</td>\n",
       "      <td>LVR</td>\n",
       "      <td>AFC</td>\n",
       "      <td>AFC West</td>\n",
       "    </tr>\n",
       "    <tr>\n",
       "      <th>1</th>\n",
       "      <td>538</td>\n",
       "      <td>1/12/1969</td>\n",
       "      <td>1968</td>\n",
       "      <td>Superbowl</td>\n",
       "      <td>True</td>\n",
       "      <td>Baltimore Colts</td>\n",
       "      <td>7</td>\n",
       "      <td>16</td>\n",
       "      <td>New York Jets</td>\n",
       "      <td>IND</td>\n",
       "      <td>...</td>\n",
       "      <td>66.0</td>\n",
       "      <td>12.0</td>\n",
       "      <td>80.0</td>\n",
       "      <td>rain</td>\n",
       "      <td>IND</td>\n",
       "      <td>AFC</td>\n",
       "      <td>NaN</td>\n",
       "      <td>NYJ</td>\n",
       "      <td>NFC</td>\n",
       "      <td>AFC East</td>\n",
       "    </tr>\n",
       "  </tbody>\n",
       "</table>\n",
       "<p>2 rows × 24 columns</p>\n",
       "</div>"
      ],
      "text/plain": [
       "   Unnamed: 0 schedule_date  schedule_season schedule_week  schedule_playoff  \\\n",
       "0         350     1/14/1968             1967     Superbowl              True   \n",
       "1         538     1/12/1969             1968     Superbowl              True   \n",
       "\n",
       "           team_home  score_home  score_away        team_away  \\\n",
       "0  Green Bay Packers          33          14  Oakland Raiders   \n",
       "1    Baltimore Colts           7          16    New York Jets   \n",
       "\n",
       "  team_favorite_id  ...  weather_temperature weather_wind_mph  \\\n",
       "0               GB  ...                 60.0             12.0   \n",
       "1              IND  ...                 66.0             12.0   \n",
       "\n",
       "  weather_humidity  weather_detail  home_id  home_conf   home_div away_id  \\\n",
       "0             74.0             NaN       GB        NFC  NFC North     LVR   \n",
       "1             80.0            rain      IND        AFC        NaN     NYJ   \n",
       "\n",
       "  away_conf  away_div  \n",
       "0       AFC  AFC West  \n",
       "1       NFC  AFC East  \n",
       "\n",
       "[2 rows x 24 columns]"
      ]
     },
     "execution_count": 7,
     "metadata": {},
     "output_type": "execute_result"
    }
   ],
   "source": [
    "#merge the team info into scores AGAIN - for the AWAY team\n",
    "#this creates one master df that includes all information for future modeling\n",
    "#    to be manipulated below\n",
    "big_df = score_w_home.merge(teams_keep, left_on='team_away', right_on='team_name', how='left', \n",
    "                            suffixes=[None,'_away']).rename(columns = {'team_id':'away_id', \n",
    "                                                                       'team_conference':'away_conf',\n",
    "                                                                       'team_division':'away_div'})\n",
    "big_df.head(2)"
   ]
  },
  {
   "cell_type": "markdown",
   "id": "f81ef1a9-7ad1-44fc-933f-9afd76fbb496",
   "metadata": {},
   "source": [
    "Now all relevent input data is in one df, we'll make our two target columns for future modeling\n"
   ]
  },
  {
   "cell_type": "code",
   "execution_count": 8,
   "id": "e8a47386-7f06-41d2-a72d-a39a26f35065",
   "metadata": {},
   "outputs": [
    {
     "data": {
      "text/html": [
       "<div>\n",
       "<style scoped>\n",
       "    .dataframe tbody tr th:only-of-type {\n",
       "        vertical-align: middle;\n",
       "    }\n",
       "\n",
       "    .dataframe tbody tr th {\n",
       "        vertical-align: top;\n",
       "    }\n",
       "\n",
       "    .dataframe thead th {\n",
       "        text-align: right;\n",
       "    }\n",
       "</style>\n",
       "<table border=\"1\" class=\"dataframe\">\n",
       "  <thead>\n",
       "    <tr style=\"text-align: right;\">\n",
       "      <th></th>\n",
       "      <th>Unnamed: 0</th>\n",
       "      <th>schedule_date</th>\n",
       "      <th>schedule_season</th>\n",
       "      <th>schedule_week</th>\n",
       "      <th>schedule_playoff</th>\n",
       "      <th>team_home</th>\n",
       "      <th>score_home</th>\n",
       "      <th>score_away</th>\n",
       "      <th>team_away</th>\n",
       "      <th>team_favorite_id</th>\n",
       "      <th>...</th>\n",
       "      <th>weather_humidity</th>\n",
       "      <th>weather_detail</th>\n",
       "      <th>home_id</th>\n",
       "      <th>home_conf</th>\n",
       "      <th>home_div</th>\n",
       "      <th>away_id</th>\n",
       "      <th>away_conf</th>\n",
       "      <th>away_div</th>\n",
       "      <th>sum_score</th>\n",
       "      <th>h_true_point_dif</th>\n",
       "    </tr>\n",
       "  </thead>\n",
       "  <tbody>\n",
       "    <tr>\n",
       "      <th>0</th>\n",
       "      <td>350</td>\n",
       "      <td>1/14/1968</td>\n",
       "      <td>1967</td>\n",
       "      <td>Superbowl</td>\n",
       "      <td>True</td>\n",
       "      <td>Green Bay Packers</td>\n",
       "      <td>33</td>\n",
       "      <td>14</td>\n",
       "      <td>Oakland Raiders</td>\n",
       "      <td>GB</td>\n",
       "      <td>...</td>\n",
       "      <td>74.0</td>\n",
       "      <td>NaN</td>\n",
       "      <td>GB</td>\n",
       "      <td>NFC</td>\n",
       "      <td>NFC North</td>\n",
       "      <td>LVR</td>\n",
       "      <td>AFC</td>\n",
       "      <td>AFC West</td>\n",
       "      <td>47</td>\n",
       "      <td>19</td>\n",
       "    </tr>\n",
       "    <tr>\n",
       "      <th>1</th>\n",
       "      <td>538</td>\n",
       "      <td>1/12/1969</td>\n",
       "      <td>1968</td>\n",
       "      <td>Superbowl</td>\n",
       "      <td>True</td>\n",
       "      <td>Baltimore Colts</td>\n",
       "      <td>7</td>\n",
       "      <td>16</td>\n",
       "      <td>New York Jets</td>\n",
       "      <td>IND</td>\n",
       "      <td>...</td>\n",
       "      <td>80.0</td>\n",
       "      <td>rain</td>\n",
       "      <td>IND</td>\n",
       "      <td>AFC</td>\n",
       "      <td>NaN</td>\n",
       "      <td>NYJ</td>\n",
       "      <td>NFC</td>\n",
       "      <td>AFC East</td>\n",
       "      <td>23</td>\n",
       "      <td>-9</td>\n",
       "    </tr>\n",
       "  </tbody>\n",
       "</table>\n",
       "<p>2 rows × 26 columns</p>\n",
       "</div>"
      ],
      "text/plain": [
       "   Unnamed: 0 schedule_date  schedule_season schedule_week  schedule_playoff  \\\n",
       "0         350     1/14/1968             1967     Superbowl              True   \n",
       "1         538     1/12/1969             1968     Superbowl              True   \n",
       "\n",
       "           team_home  score_home  score_away        team_away  \\\n",
       "0  Green Bay Packers          33          14  Oakland Raiders   \n",
       "1    Baltimore Colts           7          16    New York Jets   \n",
       "\n",
       "  team_favorite_id  ...  weather_humidity weather_detail home_id  home_conf  \\\n",
       "0               GB  ...              74.0            NaN      GB        NFC   \n",
       "1              IND  ...              80.0           rain     IND        AFC   \n",
       "\n",
       "    home_div  away_id  away_conf  away_div sum_score h_true_point_dif  \n",
       "0  NFC North      LVR        AFC  AFC West        47               19  \n",
       "1        NaN      NYJ        NFC  AFC East        23               -9  \n",
       "\n",
       "[2 rows x 26 columns]"
      ]
     },
     "execution_count": 8,
     "metadata": {},
     "output_type": "execute_result"
    }
   ],
   "source": [
    "big_df['sum_score'] = big_df['score_home'] + big_df['score_away']\n",
    "big_df['h_true_point_dif'] = big_df['score_home'] - big_df['score_away']\n",
    "\n",
    "big_df.head(2)"
   ]
  },
  {
   "cell_type": "code",
   "execution_count": 9,
   "id": "33ac7c99-d8e6-40d5-87b0-342a979e01c9",
   "metadata": {},
   "outputs": [
    {
     "data": {
      "text/plain": [
       "Index(['Unnamed: 0', 'schedule_date', 'schedule_season', 'schedule_week',\n",
       "       'schedule_playoff', 'team_home', 'score_home', 'score_away',\n",
       "       'team_away', 'team_favorite_id', 'spread_favorite', 'over_under_line',\n",
       "       'stadium', 'stadium_neutral', 'weather_temperature', 'weather_wind_mph',\n",
       "       'weather_humidity', 'weather_detail', 'home_id', 'home_conf',\n",
       "       'home_div', 'away_id', 'away_conf', 'away_div', 'sum_score',\n",
       "       'h_true_point_dif'],\n",
       "      dtype='object')"
      ]
     },
     "execution_count": 9,
     "metadata": {},
     "output_type": "execute_result"
    }
   ],
   "source": [
    "big_df.columns"
   ]
  },
  {
   "cell_type": "code",
   "execution_count": 10,
   "id": "14352cb6-d5d8-4df2-aa00-1d705da579e0",
   "metadata": {},
   "outputs": [
    {
     "data": {
      "text/html": [
       "<div>\n",
       "<style scoped>\n",
       "    .dataframe tbody tr th:only-of-type {\n",
       "        vertical-align: middle;\n",
       "    }\n",
       "\n",
       "    .dataframe tbody tr th {\n",
       "        vertical-align: top;\n",
       "    }\n",
       "\n",
       "    .dataframe thead th {\n",
       "        text-align: right;\n",
       "    }\n",
       "</style>\n",
       "<table border=\"1\" class=\"dataframe\">\n",
       "  <thead>\n",
       "    <tr style=\"text-align: right;\">\n",
       "      <th></th>\n",
       "      <th>home_id</th>\n",
       "      <th>away_id</th>\n",
       "      <th>team_favorite_id</th>\n",
       "      <th>spread_favorite</th>\n",
       "      <th>over_under_line</th>\n",
       "      <th>sum_score</th>\n",
       "      <th>h_true_point_dif</th>\n",
       "    </tr>\n",
       "  </thead>\n",
       "  <tbody>\n",
       "    <tr>\n",
       "      <th>0</th>\n",
       "      <td>GB</td>\n",
       "      <td>LVR</td>\n",
       "      <td>GB</td>\n",
       "      <td>-13.5</td>\n",
       "      <td>43</td>\n",
       "      <td>47</td>\n",
       "      <td>19</td>\n",
       "    </tr>\n",
       "    <tr>\n",
       "      <th>1</th>\n",
       "      <td>IND</td>\n",
       "      <td>NYJ</td>\n",
       "      <td>IND</td>\n",
       "      <td>-18.0</td>\n",
       "      <td>40</td>\n",
       "      <td>23</td>\n",
       "      <td>-9</td>\n",
       "    </tr>\n",
       "    <tr>\n",
       "      <th>2</th>\n",
       "      <td>KC</td>\n",
       "      <td>MIN</td>\n",
       "      <td>MIN</td>\n",
       "      <td>-12.0</td>\n",
       "      <td>39</td>\n",
       "      <td>30</td>\n",
       "      <td>16</td>\n",
       "    </tr>\n",
       "    <tr>\n",
       "      <th>3</th>\n",
       "      <td>IND</td>\n",
       "      <td>DAL</td>\n",
       "      <td>IND</td>\n",
       "      <td>-2.5</td>\n",
       "      <td>36</td>\n",
       "      <td>29</td>\n",
       "      <td>3</td>\n",
       "    </tr>\n",
       "    <tr>\n",
       "      <th>4</th>\n",
       "      <td>DAL</td>\n",
       "      <td>MIA</td>\n",
       "      <td>DAL</td>\n",
       "      <td>-6.0</td>\n",
       "      <td>34</td>\n",
       "      <td>27</td>\n",
       "      <td>21</td>\n",
       "    </tr>\n",
       "  </tbody>\n",
       "</table>\n",
       "</div>"
      ],
      "text/plain": [
       "  home_id away_id team_favorite_id  spread_favorite over_under_line  \\\n",
       "0      GB     LVR               GB            -13.5              43   \n",
       "1     IND     NYJ              IND            -18.0              40   \n",
       "2      KC     MIN              MIN            -12.0              39   \n",
       "3     IND     DAL              IND             -2.5              36   \n",
       "4     DAL     MIA              DAL             -6.0              34   \n",
       "\n",
       "   sum_score  h_true_point_dif  \n",
       "0         47                19  \n",
       "1         23                -9  \n",
       "2         30                16  \n",
       "3         29                 3  \n",
       "4         27                21  "
      ]
     },
     "execution_count": 10,
     "metadata": {},
     "output_type": "execute_result"
    }
   ],
   "source": [
    "#isolate betting info for processing\n",
    "betting = big_df[['home_id','away_id', 'team_favorite_id','spread_favorite', 'over_under_line', 'sum_score' , 'h_true_point_dif']]\n",
    "betting.head()"
   ]
  },
  {
   "cell_type": "code",
   "execution_count": 11,
   "id": "bd988908-d061-4ddd-bc2a-b963c32f5675",
   "metadata": {},
   "outputs": [],
   "source": [
    "#define function to format the spread to be positive or negative to reflect the home team's perspective\n",
    "\n",
    "def make_spread_home(home_id, team_favorite_id, spread_favorite):\n",
    "    if home_id != team_favorite_id:\n",
    "        home_spread = spread_favorite*(-1)\n",
    "        return home_spread\n",
    "    return spread_favorite\n",
    "    "
   ]
  },
  {
   "cell_type": "code",
   "execution_count": 12,
   "id": "bdf83469-c774-4539-986c-f8ee22d82d23",
   "metadata": {},
   "outputs": [],
   "source": [
    "#define function to format the spread to be positive or negative to reflect the home teaam's perspective\n",
    "\n",
    "#def make_spread_home(home_id, team_favorite_id, spread_favorite):\n",
    "#   if home_id != team_favorite_id:\n",
    "#        home_spread = spread_favorite*(-1)\n",
    "#        return home_spread\n",
    "#    return spread_favorite\n",
    "    "
   ]
  },
  {
   "cell_type": "code",
   "execution_count": 13,
   "id": "65756aa0-6b21-4f7b-8bf8-0f53a721f2ee",
   "metadata": {},
   "outputs": [],
   "source": [
    "#apply make_spread_home func -create spread prediction column to always define spread in terms of home teams chance to win\n",
    "\n",
    "big_df['home_pred_spread'] = big_df.apply(lambda row: make_spread_home(row['home_id'], row['team_favorite_id'], row['spread_favorite']), axis=1)"
   ]
  },
  {
   "cell_type": "code",
   "execution_count": 14,
   "id": "fc1b4419-1e11-486c-8e71-5542a5043953",
   "metadata": {},
   "outputs": [
    {
     "name": "stdout",
     "output_type": "stream",
     "text": [
      "<class 'pandas.core.frame.DataFrame'>\n",
      "RangeIndex: 11027 entries, 0 to 11026\n",
      "Data columns (total 24 columns):\n",
      " #   Column               Non-Null Count  Dtype  \n",
      "---  ------               --------------  -----  \n",
      " 0   schedule_date        11027 non-null  object \n",
      " 1   schedule_season      11027 non-null  int64  \n",
      " 2   schedule_week        11027 non-null  object \n",
      " 3   schedule_playoff     11027 non-null  bool   \n",
      " 4   team_home            11027 non-null  object \n",
      " 5   score_home           11027 non-null  int64  \n",
      " 6   score_away           11027 non-null  int64  \n",
      " 7   team_away            11027 non-null  object \n",
      " 8   team_favorite_id     11027 non-null  object \n",
      " 9   over_under_line      11027 non-null  object \n",
      " 10  stadium_neutral      11027 non-null  bool   \n",
      " 11  weather_temperature  10050 non-null  float64\n",
      " 12  weather_wind_mph     10034 non-null  float64\n",
      " 13  weather_humidity     6369 non-null   float64\n",
      " 14  weather_detail       2761 non-null   object \n",
      " 15  home_id              11027 non-null  object \n",
      " 16  home_conf            11027 non-null  object \n",
      " 17  home_div             10410 non-null  object \n",
      " 18  away_id              11027 non-null  object \n",
      " 19  away_conf            11027 non-null  object \n",
      " 20  away_div             10410 non-null  object \n",
      " 21  sum_score            11027 non-null  int64  \n",
      " 22  h_true_point_dif     11027 non-null  int64  \n",
      " 23  home_pred_spread     11027 non-null  float64\n",
      "dtypes: bool(2), float64(4), int64(5), object(13)\n",
      "memory usage: 1.9+ MB\n"
     ]
    }
   ],
   "source": [
    "#initial look - is now the time to get rid of any clearly redundant columns?\n",
    "#     -> e.g. we no longer need the spread_favorite col, as all data transferred to home_pred_spread\n",
    "#big_df.info()\n",
    "main_df = big_df.drop(columns = ['Unnamed: 0' , 'spread_favorite' , 'stadium' ], axis=1)\n",
    "main_df.info()"
   ]
  },
  {
   "cell_type": "code",
   "execution_count": 15,
   "id": "d457c495-b13d-4236-9d76-b1c6cad1421b",
   "metadata": {},
   "outputs": [],
   "source": [
    "main_df.head(13)   #finding the first game in our records with betting data that was not a superbowl\n",
    "#looks like that is in the 1979 season, so it feels safe to exclude those preceding superbowls, as teams'\n",
    "    #success 50+ years ago is very unlikely to help predict future games\n",
    "\n",
    "main_df = main_df.iloc[12:,:]"
   ]
  },
  {
   "cell_type": "code",
   "execution_count": 16,
   "id": "d28e19a1-0a0a-4585-8a5e-0e4dab929e6c",
   "metadata": {
    "scrolled": true
   },
   "outputs": [
    {
     "data": {
      "image/png": "[encoded data removed]",
      "text/plain": [
       "<Figure size 640x480 with 1 Axes>"
      ]
     },
     "metadata": {},
     "output_type": "display_data"
    }
   ],
   "source": [
    "#check out historical distribution of the difference between predicted spread and true game spread\n",
    "\n",
    "score_difs = main_df.h_true_point_dif + main_df.home_pred_spread\n",
    "bins = range(-20, 20, 2)\n",
    "plt.hist(score_difs, bins=bins);\n",
    "plt.xlabel('Amount that home team beat the spread by')\n",
    "\n",
    "main_df['home_ATS'] = score_difs\n"
   ]
  },
  {
   "cell_type": "code",
   "execution_count": 17,
   "id": "fbe4dd12-b3a4-40ba-a392-adb709f13e54",
   "metadata": {},
   "outputs": [
    {
     "data": {
      "text/plain": [
       "count    11015.000000\n",
       "mean         0.195415\n",
       "std         13.340172\n",
       "min        -52.000000\n",
       "25%         -8.500000\n",
       "50%          0.000000\n",
       "75%          8.500000\n",
       "max         50.500000\n",
       "dtype: float64"
      ]
     },
     "execution_count": 17,
     "metadata": {},
     "output_type": "execute_result"
    }
   ],
   "source": [
    "#view stats on historical spread \n",
    "score_difs.describe()"
   ]
  },
  {
   "cell_type": "code",
   "execution_count": 18,
   "id": "d6d7f416-b050-4556-87d3-336bcc960deb",
   "metadata": {},
   "outputs": [
    {
     "data": {
      "image/png": "[encoded data removed]",
      "text/plain": [
       "<Figure size 1200x600 with 1 Axes>"
      ]
     },
     "metadata": {},
     "output_type": "display_data"
    }
   ],
   "source": [
    "plt.subplots(figsize=(12, 6))\n",
    "sns.boxplot(x='home_id', y= score_difs, data=big_df)\n",
    "plt.xticks(rotation='vertical');\n",
    "plt.title('Performance against the spread by team');"
   ]
  },
  {
   "cell_type": "code",
   "execution_count": 19,
   "id": "c8ed1a2c-482f-49ae-9849-5bba2eaf277e",
   "metadata": {},
   "outputs": [
    {
     "data": {
      "text/plain": [
       "<Axes: >"
      ]
     },
     "execution_count": 19,
     "metadata": {},
     "output_type": "execute_result"
    },
    {
     "data": {
      "image/png": "[encoded data removed]",
      "text/plain": [
       "<Figure size 640x480 with 2 Axes>"
      ]
     },
     "metadata": {},
     "output_type": "display_data"
    }
   ],
   "source": [
    "sns.heatmap(main_df.corr(numeric_only=True))"
   ]
  },
  {
   "cell_type": "markdown",
   "id": "389e9bc1-1f79-4a34-a9fe-1c16b5277a12",
   "metadata": {},
   "source": [
    "Looking into importance of recency. To develop an idea of how far back in time models should be developed from. for example, the 1977 dolphins probably aren't a valid predictor for the 2023 fins success."
   ]
  },
  {
   "cell_type": "code",
   "execution_count": 20,
   "id": "c16f25ee-c141-4d9f-8c27-746ef9d3fa68",
   "metadata": {},
   "outputs": [
    {
     "name": "stdout",
     "output_type": "stream",
     "text": [
      "-12.48611111111111\n",
      "-3.0416666666666665\n",
      "3.15\n",
      "17.05\n",
      "-3.6666666666666665\n",
      "-16.444444444444443\n",
      "13.431818181818182\n",
      "-2.0277777777777777\n",
      "14.533333333333335\n",
      "-8.027777777777779\n",
      "2.2777777777777777\n",
      "-0.44444444444444464\n",
      "-15.791666666666668\n",
      "-15.666666666666666\n",
      "5.088888888888889\n",
      "14.0\n",
      "0.42500000000000004\n",
      "-9.51388888888889\n",
      "-2.4444444444444446\n",
      "0.7249999999999996\n",
      "-1.475\n",
      "2.0694444444444446\n",
      "-1.9722222222222223\n",
      "-2.9444444444444446\n",
      "-2.3194444444444446\n",
      "17.916666666666664\n",
      "-4.041666666666667\n",
      "-1.333333333333333\n",
      "16.424242424242426\n",
      "-7.15\n",
      "-7.055555555555555\n",
      "-2.5972222222222223\n"
     ]
    }
   ],
   "source": [
    "dif_sum_2022_h = main_df[main_df['schedule_season'] == 2022].groupby('home_id')['h_true_point_dif'].mean()\n",
    "dif_sum_2022_a = (-1)*main_df[main_df['schedule_season'] == 2022].groupby('away_id')['h_true_point_dif'].mean()\n",
    "for i in range(len(dif_sum_2022_a)):\n",
    "    print(dif_sum_2022_h[i] + dif_sum_2022_a[i])"
   ]
  },
  {
   "cell_type": "code",
   "execution_count": 21,
   "id": "66e8c751-d432-41d3-9661-e7e81afe902c",
   "metadata": {},
   "outputs": [],
   "source": [
    "mean_difs_running = pd.DataFrame()\n",
    "boop=[]\n",
    "j=0\n",
    "for i in range(30,3000,15):\n",
    "    dif_sum_h = main_df.iloc[(-i):,:].groupby('home_id')['h_true_point_dif'].mean()\n",
    "    dif_sum_a = (-1)*main_df.iloc[(-i):,:].groupby('away_id')['h_true_point_dif'].mean()\n",
    "    boop.append(dif_sum_h[1] + dif_sum_a[1])\n",
    "\n",
    "#print(boop);"
   ]
  },
  {
   "cell_type": "code",
   "execution_count": 22,
   "id": "8e78a132-d3cd-4f66-b487-d3f144b919b7",
   "metadata": {},
   "outputs": [
    {
     "data": {
      "image/png": "[encoded data removed]",
      "text/plain": [
       "<Figure size 1200x600 with 1 Axes>"
      ]
     },
     "metadata": {},
     "output_type": "display_data"
    }
   ],
   "source": [
    "#how do average performances against the spread change from season to season?\n",
    "plt.subplots(figsize=(12, 6))\n",
    "sns.boxplot(x='schedule_season', y= score_difs, data=big_df)\n",
    "plt.xticks(rotation='vertical');\n",
    "plt.title('distributions of score differentials per season');"
   ]
  },
  {
   "cell_type": "code",
   "execution_count": 23,
   "id": "06aa3d66",
   "metadata": {},
   "outputs": [],
   "source": [
    "#add information to the above with mean and standard deviation of each year?\n"
   ]
  },
  {
   "cell_type": "code",
   "execution_count": 24,
   "id": "bc319c64-232b-41ec-8e7c-d049972eb264",
   "metadata": {},
   "outputs": [
    {
     "data": {
      "image/png": "[encoded data removed]",
      "text/plain": [
       "<Figure size 1200x600 with 1 Axes>"
      ]
     },
     "metadata": {},
     "output_type": "display_data"
    }
   ],
   "source": [
    "#how do average performances against the spread change throughout one season?\n",
    "plt.subplots(figsize=(12, 6))\n",
    "sns.boxplot(x='schedule_week', y= score_difs, data=big_df)\n",
    "plt.xticks(rotation='vertical');\n",
    "plt.title('distributions of score differentials per week of the season');\n",
    "\n",
    "\n",
    "#there appears to be slightly less variability in the playoffs than in the regular season, \n",
    "#   but it is hard to claim significance of this apparent trend\n",
    "#There also may be a lul in variation, meaning more accurate predictions from the sports book\n",
    "#   During the middle of the season, roughly weeks 8-10"
   ]
  },
  {
   "cell_type": "code",
   "execution_count": 25,
   "id": "5c45a069-3d8e-4a98-838c-bc869b337ace",
   "metadata": {},
   "outputs": [],
   "source": [
    "#track team records\n",
    "# dict with team as key, [w ,l] list as val\n",
    "# for each row in bigdf, increase counts in val as appropriate based on true spread\n",
    "\n",
    "\n",
    "#ALTERNATIVE - each val in dict is a list of [0,1,1,0,0,1,0...] over time "
   ]
  },
  {
   "cell_type": "code",
   "execution_count": 27,
   "id": "15461660-d96d-4e4d-b1b3-97b054d929bb",
   "metadata": {},
   "outputs": [
    {
     "name": "stdout",
     "output_type": "stream",
     "text": [
      "By how much do home teams beat the spread in different weather?\n"
     ]
    },
    {
     "data": {
      "text/html": [
       "<div>\n",
       "<style scoped>\n",
       "    .dataframe tbody tr th:only-of-type {\n",
       "        vertical-align: middle;\n",
       "    }\n",
       "\n",
       "    .dataframe tbody tr th {\n",
       "        vertical-align: top;\n",
       "    }\n",
       "\n",
       "    .dataframe thead th {\n",
       "        text-align: right;\n",
       "    }\n",
       "</style>\n",
       "<table border=\"1\" class=\"dataframe\">\n",
       "  <thead>\n",
       "    <tr style=\"text-align: right;\">\n",
       "      <th></th>\n",
       "      <th>count</th>\n",
       "      <th>mean</th>\n",
       "      <th>std</th>\n",
       "      <th>min</th>\n",
       "      <th>25%</th>\n",
       "      <th>50%</th>\n",
       "      <th>75%</th>\n",
       "      <th>max</th>\n",
       "    </tr>\n",
       "    <tr>\n",
       "      <th>weather_detail</th>\n",
       "      <th></th>\n",
       "      <th></th>\n",
       "      <th></th>\n",
       "      <th></th>\n",
       "      <th></th>\n",
       "      <th></th>\n",
       "      <th></th>\n",
       "      <th></th>\n",
       "    </tr>\n",
       "  </thead>\n",
       "  <tbody>\n",
       "    <tr>\n",
       "      <th>fog</th>\n",
       "      <td>28.0</td>\n",
       "      <td>5.946429</td>\n",
       "      <td>13.261151</td>\n",
       "      <td>-16.5</td>\n",
       "      <td>-4.125</td>\n",
       "      <td>4.25</td>\n",
       "      <td>13.625</td>\n",
       "      <td>29.5</td>\n",
       "    </tr>\n",
       "    <tr>\n",
       "      <th>indoor</th>\n",
       "      <td>2509.0</td>\n",
       "      <td>-0.041849</td>\n",
       "      <td>13.492963</td>\n",
       "      <td>-47.0</td>\n",
       "      <td>-9.000</td>\n",
       "      <td>-0.50</td>\n",
       "      <td>8.000</td>\n",
       "      <td>45.5</td>\n",
       "    </tr>\n",
       "    <tr>\n",
       "      <th>rain</th>\n",
       "      <td>108.0</td>\n",
       "      <td>1.662037</td>\n",
       "      <td>13.764852</td>\n",
       "      <td>-35.5</td>\n",
       "      <td>-6.000</td>\n",
       "      <td>0.00</td>\n",
       "      <td>10.000</td>\n",
       "      <td>36.5</td>\n",
       "    </tr>\n",
       "    <tr>\n",
       "      <th>rain | fog</th>\n",
       "      <td>22.0</td>\n",
       "      <td>5.954545</td>\n",
       "      <td>16.668983</td>\n",
       "      <td>-18.5</td>\n",
       "      <td>-4.500</td>\n",
       "      <td>3.75</td>\n",
       "      <td>10.375</td>\n",
       "      <td>50.0</td>\n",
       "    </tr>\n",
       "    <tr>\n",
       "      <th>retractable (open roof)</th>\n",
       "      <td>69.0</td>\n",
       "      <td>-1.391304</td>\n",
       "      <td>13.188361</td>\n",
       "      <td>-34.0</td>\n",
       "      <td>-9.500</td>\n",
       "      <td>-0.50</td>\n",
       "      <td>6.500</td>\n",
       "      <td>31.5</td>\n",
       "    </tr>\n",
       "    <tr>\n",
       "      <th>snow</th>\n",
       "      <td>15.0</td>\n",
       "      <td>-4.000000</td>\n",
       "      <td>15.003571</td>\n",
       "      <td>-26.0</td>\n",
       "      <td>-13.250</td>\n",
       "      <td>-5.00</td>\n",
       "      <td>4.000</td>\n",
       "      <td>28.5</td>\n",
       "    </tr>\n",
       "    <tr>\n",
       "      <th>snow | Freezing rain</th>\n",
       "      <td>1.0</td>\n",
       "      <td>-3.000000</td>\n",
       "      <td>NaN</td>\n",
       "      <td>-3.0</td>\n",
       "      <td>-3.000</td>\n",
       "      <td>-3.00</td>\n",
       "      <td>-3.000</td>\n",
       "      <td>-3.0</td>\n",
       "    </tr>\n",
       "    <tr>\n",
       "      <th>snow | fog</th>\n",
       "      <td>5.0</td>\n",
       "      <td>-4.900000</td>\n",
       "      <td>11.696153</td>\n",
       "      <td>-19.0</td>\n",
       "      <td>-9.000</td>\n",
       "      <td>-9.00</td>\n",
       "      <td>0.500</td>\n",
       "      <td>12.0</td>\n",
       "    </tr>\n",
       "  </tbody>\n",
       "</table>\n",
       "</div>"
      ],
      "text/plain": [
       "                          count      mean        std   min     25%   50%  \\\n",
       "weather_detail                                                             \n",
       "fog                        28.0  5.946429  13.261151 -16.5  -4.125  4.25   \n",
       "indoor                   2509.0 -0.041849  13.492963 -47.0  -9.000 -0.50   \n",
       "rain                      108.0  1.662037  13.764852 -35.5  -6.000  0.00   \n",
       "rain | fog                 22.0  5.954545  16.668983 -18.5  -4.500  3.75   \n",
       "retractable (open roof)    69.0 -1.391304  13.188361 -34.0  -9.500 -0.50   \n",
       "snow                       15.0 -4.000000  15.003571 -26.0 -13.250 -5.00   \n",
       "snow | Freezing rain        1.0 -3.000000        NaN  -3.0  -3.000 -3.00   \n",
       "snow | fog                  5.0 -4.900000  11.696153 -19.0  -9.000 -9.00   \n",
       "\n",
       "                            75%   max  \n",
       "weather_detail                         \n",
       "fog                      13.625  29.5  \n",
       "indoor                    8.000  45.5  \n",
       "rain                     10.000  36.5  \n",
       "rain | fog               10.375  50.0  \n",
       "retractable (open roof)   6.500  31.5  \n",
       "snow                      4.000  28.5  \n",
       "snow | Freezing rain     -3.000  -3.0  \n",
       "snow | fog                0.500  12.0  "
      ]
     },
     "execution_count": 27,
     "metadata": {},
     "output_type": "execute_result"
    }
   ],
   "source": [
    "#compare in general how various weather conditions affect spread stats \n",
    "#reminder from above: score_difs is the amount that home team beat the spread by\n",
    "print('By how much do home teams beat the spread in different weather?')\n",
    "\n",
    "main_df.groupby(['weather_detail'])['home_ATS'].describe()"
   ]
  },
  {
   "cell_type": "code",
   "execution_count": 29,
   "id": "0ee8c18f-c4ad-46d7-874f-07162235b58a",
   "metadata": {},
   "outputs": [
    {
     "name": "stdout",
     "output_type": "stream",
     "text": [
      "Does spread performance trend with division?\n"
     ]
    },
    {
     "data": {
      "text/html": [
       "<div>\n",
       "<style scoped>\n",
       "    .dataframe tbody tr th:only-of-type {\n",
       "        vertical-align: middle;\n",
       "    }\n",
       "\n",
       "    .dataframe tbody tr th {\n",
       "        vertical-align: top;\n",
       "    }\n",
       "\n",
       "    .dataframe thead th {\n",
       "        text-align: right;\n",
       "    }\n",
       "</style>\n",
       "<table border=\"1\" class=\"dataframe\">\n",
       "  <thead>\n",
       "    <tr style=\"text-align: right;\">\n",
       "      <th></th>\n",
       "      <th>count</th>\n",
       "      <th>mean</th>\n",
       "      <th>std</th>\n",
       "      <th>min</th>\n",
       "      <th>25%</th>\n",
       "      <th>50%</th>\n",
       "      <th>75%</th>\n",
       "      <th>max</th>\n",
       "    </tr>\n",
       "    <tr>\n",
       "      <th>home_div</th>\n",
       "      <th></th>\n",
       "      <th></th>\n",
       "      <th></th>\n",
       "      <th></th>\n",
       "      <th></th>\n",
       "      <th></th>\n",
       "      <th></th>\n",
       "      <th></th>\n",
       "    </tr>\n",
       "  </thead>\n",
       "  <tbody>\n",
       "    <tr>\n",
       "      <th>AFC East</th>\n",
       "      <td>1459.0</td>\n",
       "      <td>0.664496</td>\n",
       "      <td>13.602631</td>\n",
       "      <td>-42.0</td>\n",
       "      <td>-8.5</td>\n",
       "      <td>0.0</td>\n",
       "      <td>9.0</td>\n",
       "      <td>50.0</td>\n",
       "    </tr>\n",
       "    <tr>\n",
       "      <th>AFC North</th>\n",
       "      <td>1287.0</td>\n",
       "      <td>0.536519</td>\n",
       "      <td>13.142412</td>\n",
       "      <td>-49.0</td>\n",
       "      <td>-7.5</td>\n",
       "      <td>0.0</td>\n",
       "      <td>8.5</td>\n",
       "      <td>50.5</td>\n",
       "    </tr>\n",
       "    <tr>\n",
       "      <th>AFC South</th>\n",
       "      <td>930.0</td>\n",
       "      <td>-0.181183</td>\n",
       "      <td>12.958397</td>\n",
       "      <td>-37.5</td>\n",
       "      <td>-8.5</td>\n",
       "      <td>-0.5</td>\n",
       "      <td>7.5</td>\n",
       "      <td>47.0</td>\n",
       "    </tr>\n",
       "    <tr>\n",
       "      <th>AFC West</th>\n",
       "      <td>1330.0</td>\n",
       "      <td>0.411654</td>\n",
       "      <td>13.226435</td>\n",
       "      <td>-52.0</td>\n",
       "      <td>-8.0</td>\n",
       "      <td>-0.5</td>\n",
       "      <td>9.0</td>\n",
       "      <td>46.0</td>\n",
       "    </tr>\n",
       "    <tr>\n",
       "      <th>NFC East</th>\n",
       "      <td>1469.0</td>\n",
       "      <td>-0.070796</td>\n",
       "      <td>13.297442</td>\n",
       "      <td>-44.0</td>\n",
       "      <td>-8.5</td>\n",
       "      <td>0.0</td>\n",
       "      <td>8.0</td>\n",
       "      <td>43.0</td>\n",
       "    </tr>\n",
       "    <tr>\n",
       "      <th>NFC North</th>\n",
       "      <td>1445.0</td>\n",
       "      <td>0.840830</td>\n",
       "      <td>13.226856</td>\n",
       "      <td>-39.0</td>\n",
       "      <td>-7.5</td>\n",
       "      <td>0.5</td>\n",
       "      <td>9.0</td>\n",
       "      <td>48.0</td>\n",
       "    </tr>\n",
       "    <tr>\n",
       "      <th>NFC South</th>\n",
       "      <td>1307.0</td>\n",
       "      <td>-0.787299</td>\n",
       "      <td>13.452724</td>\n",
       "      <td>-40.5</td>\n",
       "      <td>-9.5</td>\n",
       "      <td>-0.5</td>\n",
       "      <td>7.5</td>\n",
       "      <td>41.0</td>\n",
       "    </tr>\n",
       "    <tr>\n",
       "      <th>NFC West</th>\n",
       "      <td>1173.0</td>\n",
       "      <td>0.320546</td>\n",
       "      <td>13.726748</td>\n",
       "      <td>-44.5</td>\n",
       "      <td>-8.5</td>\n",
       "      <td>0.0</td>\n",
       "      <td>9.0</td>\n",
       "      <td>48.0</td>\n",
       "    </tr>\n",
       "  </tbody>\n",
       "</table>\n",
       "</div>"
      ],
      "text/plain": [
       "            count      mean        std   min  25%  50%  75%   max\n",
       "home_div                                                         \n",
       "AFC East   1459.0  0.664496  13.602631 -42.0 -8.5  0.0  9.0  50.0\n",
       "AFC North  1287.0  0.536519  13.142412 -49.0 -7.5  0.0  8.5  50.5\n",
       "AFC South   930.0 -0.181183  12.958397 -37.5 -8.5 -0.5  7.5  47.0\n",
       "AFC West   1330.0  0.411654  13.226435 -52.0 -8.0 -0.5  9.0  46.0\n",
       "NFC East   1469.0 -0.070796  13.297442 -44.0 -8.5  0.0  8.0  43.0\n",
       "NFC North  1445.0  0.840830  13.226856 -39.0 -7.5  0.5  9.0  48.0\n",
       "NFC South  1307.0 -0.787299  13.452724 -40.5 -9.5 -0.5  7.5  41.0\n",
       "NFC West   1173.0  0.320546  13.726748 -44.5 -8.5  0.0  9.0  48.0"
      ]
     },
     "execution_count": 29,
     "metadata": {},
     "output_type": "execute_result"
    }
   ],
   "source": [
    "#Q: can we justify getting rid of divisions for modeling?\n",
    "print('Does spread performance trend with division?')\n",
    "main_df.groupby(['home_div'])['home_ATS'].describe()\n",
    "\n",
    "#A: Most likely. All divisions have similar mean, spread, and median"
   ]
  },
  {
   "cell_type": "code",
   "execution_count": 30,
   "id": "793f08ce-d5a5-4add-bd0f-59fae62c6895",
   "metadata": {},
   "outputs": [
    {
     "name": "stdout",
     "output_type": "stream",
     "text": [
      "How about Conferences?\n"
     ]
    },
    {
     "data": {
      "text/html": [
       "<div>\n",
       "<style scoped>\n",
       "    .dataframe tbody tr th:only-of-type {\n",
       "        vertical-align: middle;\n",
       "    }\n",
       "\n",
       "    .dataframe tbody tr th {\n",
       "        vertical-align: top;\n",
       "    }\n",
       "\n",
       "    .dataframe thead th {\n",
       "        text-align: right;\n",
       "    }\n",
       "</style>\n",
       "<table border=\"1\" class=\"dataframe\">\n",
       "  <thead>\n",
       "    <tr style=\"text-align: right;\">\n",
       "      <th></th>\n",
       "      <th>count</th>\n",
       "      <th>mean</th>\n",
       "      <th>std</th>\n",
       "      <th>min</th>\n",
       "      <th>25%</th>\n",
       "      <th>50%</th>\n",
       "      <th>75%</th>\n",
       "      <th>max</th>\n",
       "    </tr>\n",
       "    <tr>\n",
       "      <th>home_conf</th>\n",
       "      <th></th>\n",
       "      <th></th>\n",
       "      <th></th>\n",
       "      <th></th>\n",
       "      <th></th>\n",
       "      <th></th>\n",
       "      <th></th>\n",
       "      <th></th>\n",
       "    </tr>\n",
       "  </thead>\n",
       "  <tbody>\n",
       "    <tr>\n",
       "      <th>AFC</th>\n",
       "      <td>4980.0</td>\n",
       "      <td>0.386345</td>\n",
       "      <td>13.191497</td>\n",
       "      <td>-52.0</td>\n",
       "      <td>-8.0</td>\n",
       "      <td>0.0</td>\n",
       "      <td>8.5</td>\n",
       "      <td>50.5</td>\n",
       "    </tr>\n",
       "    <tr>\n",
       "      <th>NFC</th>\n",
       "      <td>6035.0</td>\n",
       "      <td>0.037862</td>\n",
       "      <td>13.460672</td>\n",
       "      <td>-44.5</td>\n",
       "      <td>-9.0</td>\n",
       "      <td>0.0</td>\n",
       "      <td>8.5</td>\n",
       "      <td>48.0</td>\n",
       "    </tr>\n",
       "  </tbody>\n",
       "</table>\n",
       "</div>"
      ],
      "text/plain": [
       "            count      mean        std   min  25%  50%  75%   max\n",
       "home_conf                                                        \n",
       "AFC        4980.0  0.386345  13.191497 -52.0 -8.0  0.0  8.5  50.5\n",
       "NFC        6035.0  0.037862  13.460672 -44.5 -9.0  0.0  8.5  48.0"
      ]
     },
     "execution_count": 30,
     "metadata": {},
     "output_type": "execute_result"
    }
   ],
   "source": [
    "print('How about Conferences?')\n",
    "main_df.groupby(['home_conf'])['home_ATS'].describe()\n",
    "\n",
    "#A: Most likely not valuable to modeling, with similar spread and mean\n",
    "#   and median both below 1"
   ]
  },
  {
   "cell_type": "code",
   "execution_count": 31,
   "id": "2e8ac8a2",
   "metadata": {},
   "outputs": [
    {
     "name": "stderr",
     "output_type": "stream",
     "text": [
      "/var/folders/_w/xxwqncbj69xfsg6qtjh7f1640000gn/T/ipykernel_34996/3350908913.py:6: SettingWithCopyWarning: \n",
      "A value is trying to be set on a copy of a slice from a DataFrame.\n",
      "Try using .loc[row_indexer,col_indexer] = value instead\n",
      "\n",
      "See the caveats in the documentation: https://pandas.pydata.org/pandas-docs/stable/user_guide/indexing.html#returning-a-view-versus-a-copy\n",
      "  main_df['over_under_line'] = main_df['over_under_line'].astype(float)\n"
     ]
    }
   ],
   "source": [
    "#this cell serves to format main_df.over_under_line to be usable in the below cell\n",
    "#main_df.over_under_line.unique()\n",
    "\n",
    "filt = main_df['over_under_line'].str.contains(' ')\n",
    "main_df = main_df[~filt]\n",
    "main_df['over_under_line'] = main_df['over_under_line'].astype(float)"
   ]
  },
  {
   "cell_type": "code",
   "execution_count": 34,
   "id": "98e67f8a",
   "metadata": {},
   "outputs": [
    {
     "name": "stdout",
     "output_type": "stream",
     "text": [
      "slope =  -0.01142566033158563\n",
      "intercept =  0.6594597965042659\n"
     ]
    },
    {
     "data": {
      "image/png": "[encoded data removed]",
      "text/plain": [
       "<Figure size 640x480 with 1 Axes>"
      ]
     },
     "metadata": {},
     "output_type": "display_data"
    }
   ],
   "source": [
    "#Now, let's look at how the predicted total score in a game affects the home team's \n",
    "#  liklihood of beating the spread:\n",
    "\n",
    "plt.scatter(x=main_df.over_under_line, y=main_df.home_ATS, s=1);\n",
    "plt.xlabel('Total points scored')\n",
    "\n",
    "m, b = np.polyfit(x=main_df.over_under_line.astype(float), y=main_df.home_ATS, deg=1)\n",
    "plt.plot(main_df.over_under_line, float(m)*(main_df.over_under_line)+b)\n",
    "print('slope = ', m)\n",
    "print('intercept = ', b)\n",
    "\n",
    "#A: for each additional 10 points predicted, home team expected to do 1 point worse ATS\n",
    "#.  not large, but possibly worth keeping?"
   ]
  },
  {
   "cell_type": "code",
   "execution_count": null,
   "id": "3c1ab3f5",
   "metadata": {},
   "outputs": [],
   "source": []
  },
  {
   "cell_type": "code",
   "execution_count": 36,
   "id": "e5b7045d",
   "metadata": {},
   "outputs": [
    {
     "name": "stdout",
     "output_type": "stream",
     "text": [
      "<class 'pandas.core.frame.DataFrame'>\n",
      "Index: 10953 entries, 12 to 11026\n",
      "Data columns (total 25 columns):\n",
      " #   Column               Non-Null Count  Dtype  \n",
      "---  ------               --------------  -----  \n",
      " 0   schedule_date        10953 non-null  object \n",
      " 1   schedule_season      10953 non-null  int64  \n",
      " 2   schedule_week        10953 non-null  object \n",
      " 3   schedule_playoff     10953 non-null  bool   \n",
      " 4   team_home            10953 non-null  object \n",
      " 5   score_home           10953 non-null  int64  \n",
      " 6   score_away           10953 non-null  int64  \n",
      " 7   team_away            10953 non-null  object \n",
      " 8   team_favorite_id     10953 non-null  object \n",
      " 9   over_under_line      10953 non-null  float64\n",
      " 10  stadium_neutral      10953 non-null  bool   \n",
      " 11  weather_temperature  10034 non-null  float64\n",
      " 12  weather_wind_mph     10018 non-null  float64\n",
      " 13  weather_humidity     6358 non-null   float64\n",
      " 14  weather_detail       2753 non-null   object \n",
      " 15  home_id              10953 non-null  object \n",
      " 16  home_conf            10953 non-null  object \n",
      " 17  home_div             10344 non-null  object \n",
      " 18  away_id              10953 non-null  object \n",
      " 19  away_conf            10953 non-null  object \n",
      " 20  away_div             10341 non-null  object \n",
      " 21  sum_score            10953 non-null  int64  \n",
      " 22  h_true_point_dif     10953 non-null  int64  \n",
      " 23  home_pred_spread     10953 non-null  float64\n",
      " 24  home_ATS             10953 non-null  float64\n",
      "dtypes: bool(2), float64(6), int64(5), object(12)\n",
      "memory usage: 2.0+ MB\n"
     ]
    }
   ],
   "source": [
    "# Identify fields that should not be included - to remove\n",
    "main_df.info()"
   ]
  },
  {
   "cell_type": "code",
   "execution_count": 37,
   "id": "a06ff8f7",
   "metadata": {
    "scrolled": true
   },
   "outputs": [
    {
     "name": "stdout",
     "output_type": "stream",
     "text": [
      "<class 'pandas.core.frame.DataFrame'>\n",
      "Index: 10953 entries, 12 to 11026\n",
      "Data columns (total 17 columns):\n",
      " #   Column               Non-Null Count  Dtype  \n",
      "---  ------               --------------  -----  \n",
      " 0   schedule_date        10953 non-null  object \n",
      " 1   schedule_season      10953 non-null  int64  \n",
      " 2   schedule_week        10953 non-null  object \n",
      " 3   schedule_playoff     10953 non-null  bool   \n",
      " 4   team_home            10953 non-null  object \n",
      " 5   team_away            10953 non-null  object \n",
      " 6   team_favorite_id     10953 non-null  object \n",
      " 7   over_under_line      10953 non-null  float64\n",
      " 8   stadium_neutral      10953 non-null  bool   \n",
      " 9   weather_temperature  10034 non-null  float64\n",
      " 10  weather_wind_mph     10018 non-null  float64\n",
      " 11  weather_humidity     6358 non-null   float64\n",
      " 12  weather_detail       2753 non-null   object \n",
      " 13  home_id              10953 non-null  object \n",
      " 14  away_id              10953 non-null  object \n",
      " 15  home_pred_spread     10953 non-null  float64\n",
      " 16  home_ATS             10953 non-null  float64\n",
      "dtypes: bool(2), float64(6), int64(1), object(8)\n",
      "memory usage: 1.4+ MB\n"
     ]
    }
   ],
   "source": [
    "#remove fields with little to no correlation to ATS outcome\n",
    "main_df = main_df.drop(columns= ['away_conf', 'home_conf', 'away_div', 'home_div'])\n",
    "\n",
    "#remove fields that include game data - i.e. will not be availabe for modeling future games\n",
    "main_df = main_df.drop(columns = ['sum_score','h_true_point_dif', 'sum_score', 'score_home', 'score_away' ])\n",
    "\n",
    "main_df.info()"
   ]
  },
  {
   "cell_type": "code",
   "execution_count": null,
   "id": "4ea59068",
   "metadata": {},
   "outputs": [],
   "source": []
  },
  {
   "cell_type": "code",
   "execution_count": null,
   "id": "8b1681f1",
   "metadata": {},
   "outputs": [],
   "source": []
  }
 ],
 "metadata": {
  "kernelspec": {
   "display_name": "Python 3 (ipykernel)",
   "language": "python",
   "name": "python3"
  },
  "language_info": {
   "codemirror_mode": {
    "name": "ipython",
    "version": 3
   },
   "file_extension": ".py",
   "mimetype": "text/x-python",
   "name": "python",
   "nbconvert_exporter": "python",
   "pygments_lexer": "ipython3",
   "version": "3.11.5"
  }
 },
 "nbformat": 4,
 "nbformat_minor": 5
}
